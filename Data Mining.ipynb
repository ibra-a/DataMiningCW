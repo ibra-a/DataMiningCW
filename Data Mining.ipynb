{
 "cells": [
  {
   "cell_type": "markdown",
   "id": "8e6f6b92",
   "metadata": {},
   "source": [
    "# F21DL Data Mining and Machine Learning:  Your DM&ML Portfolio\n",
    "\n",
    "#### Part 1"
   ]
  },
  {
   "cell_type": "code",
   "execution_count": 121,
   "id": "330276dc",
   "metadata": {},
   "outputs": [
    {
     "name": "stdout",
     "output_type": "stream",
     "text": [
      "Collecting opencv-python\n",
      "  Downloading opencv_python-4.8.1.78-cp37-abi3-macosx_10_16_x86_64.whl (54.7 MB)\n",
      "\u001b[K     |████████████████████████████████| 54.7 MB 1.1 MB/s eta 0:00:01\n",
      "\u001b[?25hRequirement already satisfied: numpy>=1.17.3 in /Users/pramodkumarnaik/opt/anaconda3/lib/python3.9/site-packages (from opencv-python) (1.22.4)\n",
      "Installing collected packages: opencv-python\n",
      "Successfully installed opencv-python-4.8.1.78\n"
     ]
    }
   ],
   "source": [
    "!pip install opencv-python"
   ]
  },
  {
   "cell_type": "code",
   "execution_count": 75,
   "id": "5b59df76",
   "metadata": {},
   "outputs": [],
   "source": [
    "#Imports\n",
    "import pandas as pd\n",
    "import numpy as np\n",
    "import matplotlib.pyplot as plt\n",
    "import seaborn as sns\n",
    "from sklearn.model_selection import train_test_split\n",
    "from sklearn.preprocessing import StandardScaler\n",
    "from sklearn.impute import SimpleImputer\n",
    "\n",
    "from imblearn.over_sampling import SMOTE\n",
    "from sklearn.model_selection import train_test_split\n",
    "from sklearn.model_selection import GridSearchCV\n",
    "\n",
    "from sklearn.naive_bayes import GaussianNB\n",
    "from sklearn.naive_bayes import MultinomialNB\n",
    "from sklearn.naive_bayes import BernoulliNB\n",
    "\n",
    "from sklearn.model_selection import cross_val_predict\n",
    "from sklearn.metrics import accuracy_score, classification_report, confusion_matrix, roc_auc_score\n",
    "\n",
    "import cv2  # OpenCV Python library for computer vision\n",
    "\n",
    "# Sampling Libraries\n",
    "import imblearn\n",
    "from imblearn.over_sampling import RandomOverSampler\n",
    "from imblearn.under_sampling import RandomUnderSampler\n"
   ]
  },
  {
   "cell_type": "code",
   "execution_count": 3,
   "id": "66d8191d",
   "metadata": {},
   "outputs": [],
   "source": [
    "# Load the dataset\n",
    "xtrain = pd.read_csv('x_train_all.csv')\n",
    "ytrain = pd.read_csv('y_train_all.csv')"
   ]
  },
  {
   "cell_type": "markdown",
   "id": "57faeaa9",
   "metadata": {},
   "source": [
    "## Data Exploration"
   ]
  },
  {
   "cell_type": "code",
   "execution_count": 4,
   "id": "3578fae0",
   "metadata": {},
   "outputs": [
    {
     "name": "stdout",
     "output_type": "stream",
     "text": [
      "      0     1     2     3     4      5      6      7      8      9  ...  \\\n",
      "0  78.0  77.0  76.0  82.0  87.0   92.0  104.0  119.0  117.0  120.0  ...   \n",
      "1  73.0  75.0  79.0  78.0  76.0   75.0   89.0  107.0  133.0  125.0  ...   \n",
      "2  72.0  75.0  79.0  77.0  81.0   89.0  105.0  109.0   86.0   90.0  ...   \n",
      "3  67.0  70.0  74.0  80.0  93.0  107.0  110.0   96.0   69.0  100.0  ...   \n",
      "4  74.0  74.0  73.0  72.0  77.0   87.0  104.0  109.0   84.0   83.0  ...   \n",
      "\n",
      "    2294  2295  2296   2297  2298  2299  2300   2301   2302   2303  \n",
      "0   87.0  79.0  72.0   76.0  83.0  95.0  99.0   98.0   95.0   94.0  \n",
      "1   96.0  93.0  85.0   77.0  69.0  73.0  83.0  100.0  101.0  101.0  \n",
      "2   98.0  95.0  88.0   80.0  73.0  71.0  74.0   80.0   89.0   95.0  \n",
      "3  112.0  92.0  87.0   82.0  77.0  72.0  70.0   72.0   81.0   88.0  \n",
      "4  100.0  98.0  99.0  100.0  99.0  89.0  78.0   66.0   68.0   72.0  \n",
      "\n",
      "[5 rows x 2304 columns]\n"
     ]
    }
   ],
   "source": [
    "# Display the first few rows of the dataset\n",
    "print(xtrain.head(5))"
   ]
  },
  {
   "cell_type": "code",
   "execution_count": 5,
   "id": "0d25ffdd",
   "metadata": {},
   "outputs": [
    {
     "data": {
      "text/html": [
       "<div>\n",
       "<style scoped>\n",
       "    .dataframe tbody tr th:only-of-type {\n",
       "        vertical-align: middle;\n",
       "    }\n",
       "\n",
       "    .dataframe tbody tr th {\n",
       "        vertical-align: top;\n",
       "    }\n",
       "\n",
       "    .dataframe thead th {\n",
       "        text-align: right;\n",
       "    }\n",
       "</style>\n",
       "<table border=\"1\" class=\"dataframe\">\n",
       "  <thead>\n",
       "    <tr style=\"text-align: right;\">\n",
       "      <th></th>\n",
       "      <th>0</th>\n",
       "    </tr>\n",
       "  </thead>\n",
       "  <tbody>\n",
       "    <tr>\n",
       "      <th>0</th>\n",
       "      <td>0</td>\n",
       "    </tr>\n",
       "    <tr>\n",
       "      <th>1</th>\n",
       "      <td>0</td>\n",
       "    </tr>\n",
       "    <tr>\n",
       "      <th>2</th>\n",
       "      <td>0</td>\n",
       "    </tr>\n",
       "    <tr>\n",
       "      <th>3</th>\n",
       "      <td>0</td>\n",
       "    </tr>\n",
       "    <tr>\n",
       "      <th>4</th>\n",
       "      <td>0</td>\n",
       "    </tr>\n",
       "  </tbody>\n",
       "</table>\n",
       "</div>"
      ],
      "text/plain": [
       "   0\n",
       "0  0\n",
       "1  0\n",
       "2  0\n",
       "3  0\n",
       "4  0"
      ]
     },
     "execution_count": 5,
     "metadata": {},
     "output_type": "execute_result"
    }
   ],
   "source": [
    "ytrain.head(5)"
   ]
  },
  {
   "cell_type": "code",
   "execution_count": 6,
   "id": "71a30086",
   "metadata": {},
   "outputs": [
    {
     "data": {
      "text/plain": [
       "(9690, 2304)"
      ]
     },
     "execution_count": 6,
     "metadata": {},
     "output_type": "execute_result"
    }
   ],
   "source": [
    "xtrain.shape"
   ]
  },
  {
   "cell_type": "code",
   "execution_count": 7,
   "id": "c5ac51fe",
   "metadata": {},
   "outputs": [
    {
     "data": {
      "text/plain": [
       "(9690, 1)"
      ]
     },
     "execution_count": 7,
     "metadata": {},
     "output_type": "execute_result"
    }
   ],
   "source": [
    "ytrain.shape"
   ]
  },
  {
   "cell_type": "code",
   "execution_count": 8,
   "id": "1c0f473a",
   "metadata": {},
   "outputs": [
    {
     "data": {
      "text/html": [
       "<div>\n",
       "<style scoped>\n",
       "    .dataframe tbody tr th:only-of-type {\n",
       "        vertical-align: middle;\n",
       "    }\n",
       "\n",
       "    .dataframe tbody tr th {\n",
       "        vertical-align: top;\n",
       "    }\n",
       "\n",
       "    .dataframe thead th {\n",
       "        text-align: right;\n",
       "    }\n",
       "</style>\n",
       "<table border=\"1\" class=\"dataframe\">\n",
       "  <thead>\n",
       "    <tr style=\"text-align: right;\">\n",
       "      <th></th>\n",
       "      <th>0</th>\n",
       "      <th>1</th>\n",
       "      <th>2</th>\n",
       "      <th>3</th>\n",
       "      <th>4</th>\n",
       "      <th>5</th>\n",
       "      <th>6</th>\n",
       "      <th>7</th>\n",
       "      <th>8</th>\n",
       "      <th>9</th>\n",
       "      <th>...</th>\n",
       "      <th>2294</th>\n",
       "      <th>2295</th>\n",
       "      <th>2296</th>\n",
       "      <th>2297</th>\n",
       "      <th>2298</th>\n",
       "      <th>2299</th>\n",
       "      <th>2300</th>\n",
       "      <th>2301</th>\n",
       "      <th>2302</th>\n",
       "      <th>2303</th>\n",
       "    </tr>\n",
       "  </thead>\n",
       "  <tbody>\n",
       "    <tr>\n",
       "      <th>count</th>\n",
       "      <td>9690.000000</td>\n",
       "      <td>9690.000000</td>\n",
       "      <td>9690.000000</td>\n",
       "      <td>9690.000000</td>\n",
       "      <td>9690.000000</td>\n",
       "      <td>9690.000000</td>\n",
       "      <td>9690.000000</td>\n",
       "      <td>9690.000000</td>\n",
       "      <td>9690.000000</td>\n",
       "      <td>9690.000000</td>\n",
       "      <td>...</td>\n",
       "      <td>9690.000000</td>\n",
       "      <td>9690.000000</td>\n",
       "      <td>9690.000000</td>\n",
       "      <td>9690.000000</td>\n",
       "      <td>9690.000000</td>\n",
       "      <td>9690.000000</td>\n",
       "      <td>9690.00000</td>\n",
       "      <td>9690.000000</td>\n",
       "      <td>9690.000000</td>\n",
       "      <td>9690.000000</td>\n",
       "    </tr>\n",
       "    <tr>\n",
       "      <th>mean</th>\n",
       "      <td>89.658514</td>\n",
       "      <td>89.545201</td>\n",
       "      <td>89.343756</td>\n",
       "      <td>89.566770</td>\n",
       "      <td>89.812590</td>\n",
       "      <td>89.853251</td>\n",
       "      <td>89.883282</td>\n",
       "      <td>89.978431</td>\n",
       "      <td>90.170175</td>\n",
       "      <td>90.519092</td>\n",
       "      <td>...</td>\n",
       "      <td>72.234881</td>\n",
       "      <td>71.833437</td>\n",
       "      <td>71.394118</td>\n",
       "      <td>70.572136</td>\n",
       "      <td>69.660165</td>\n",
       "      <td>68.878638</td>\n",
       "      <td>68.29453</td>\n",
       "      <td>67.831889</td>\n",
       "      <td>67.548297</td>\n",
       "      <td>67.393189</td>\n",
       "    </tr>\n",
       "    <tr>\n",
       "      <th>std</th>\n",
       "      <td>77.521341</td>\n",
       "      <td>77.430539</td>\n",
       "      <td>77.350452</td>\n",
       "      <td>77.498754</td>\n",
       "      <td>77.437292</td>\n",
       "      <td>77.279125</td>\n",
       "      <td>77.085714</td>\n",
       "      <td>77.081732</td>\n",
       "      <td>77.062371</td>\n",
       "      <td>77.155644</td>\n",
       "      <td>...</td>\n",
       "      <td>65.369022</td>\n",
       "      <td>65.439225</td>\n",
       "      <td>65.402298</td>\n",
       "      <td>65.144238</td>\n",
       "      <td>64.885963</td>\n",
       "      <td>64.530366</td>\n",
       "      <td>64.27455</td>\n",
       "      <td>63.799350</td>\n",
       "      <td>63.437102</td>\n",
       "      <td>63.506304</td>\n",
       "    </tr>\n",
       "    <tr>\n",
       "      <th>min</th>\n",
       "      <td>5.000000</td>\n",
       "      <td>5.000000</td>\n",
       "      <td>4.000000</td>\n",
       "      <td>5.000000</td>\n",
       "      <td>5.000000</td>\n",
       "      <td>5.000000</td>\n",
       "      <td>5.000000</td>\n",
       "      <td>4.000000</td>\n",
       "      <td>4.000000</td>\n",
       "      <td>4.000000</td>\n",
       "      <td>...</td>\n",
       "      <td>4.000000</td>\n",
       "      <td>4.000000</td>\n",
       "      <td>4.000000</td>\n",
       "      <td>5.000000</td>\n",
       "      <td>4.000000</td>\n",
       "      <td>4.000000</td>\n",
       "      <td>4.00000</td>\n",
       "      <td>5.000000</td>\n",
       "      <td>4.000000</td>\n",
       "      <td>4.000000</td>\n",
       "    </tr>\n",
       "    <tr>\n",
       "      <th>25%</th>\n",
       "      <td>32.000000</td>\n",
       "      <td>32.000000</td>\n",
       "      <td>32.000000</td>\n",
       "      <td>31.000000</td>\n",
       "      <td>32.000000</td>\n",
       "      <td>32.000000</td>\n",
       "      <td>32.000000</td>\n",
       "      <td>33.000000</td>\n",
       "      <td>33.000000</td>\n",
       "      <td>33.000000</td>\n",
       "      <td>...</td>\n",
       "      <td>26.000000</td>\n",
       "      <td>26.000000</td>\n",
       "      <td>26.000000</td>\n",
       "      <td>26.000000</td>\n",
       "      <td>26.000000</td>\n",
       "      <td>25.000000</td>\n",
       "      <td>25.00000</td>\n",
       "      <td>25.000000</td>\n",
       "      <td>25.000000</td>\n",
       "      <td>25.000000</td>\n",
       "    </tr>\n",
       "    <tr>\n",
       "      <th>50%</th>\n",
       "      <td>57.000000</td>\n",
       "      <td>58.000000</td>\n",
       "      <td>57.000000</td>\n",
       "      <td>58.000000</td>\n",
       "      <td>58.000000</td>\n",
       "      <td>58.000000</td>\n",
       "      <td>58.000000</td>\n",
       "      <td>58.000000</td>\n",
       "      <td>59.000000</td>\n",
       "      <td>59.000000</td>\n",
       "      <td>...</td>\n",
       "      <td>46.000000</td>\n",
       "      <td>46.000000</td>\n",
       "      <td>46.000000</td>\n",
       "      <td>45.000000</td>\n",
       "      <td>45.000000</td>\n",
       "      <td>44.000000</td>\n",
       "      <td>44.00000</td>\n",
       "      <td>43.000000</td>\n",
       "      <td>43.000000</td>\n",
       "      <td>43.000000</td>\n",
       "    </tr>\n",
       "    <tr>\n",
       "      <th>75%</th>\n",
       "      <td>126.000000</td>\n",
       "      <td>124.000000</td>\n",
       "      <td>122.750000</td>\n",
       "      <td>123.000000</td>\n",
       "      <td>125.000000</td>\n",
       "      <td>123.750000</td>\n",
       "      <td>124.000000</td>\n",
       "      <td>124.000000</td>\n",
       "      <td>124.000000</td>\n",
       "      <td>126.000000</td>\n",
       "      <td>...</td>\n",
       "      <td>95.000000</td>\n",
       "      <td>93.000000</td>\n",
       "      <td>91.000000</td>\n",
       "      <td>88.000000</td>\n",
       "      <td>86.000000</td>\n",
       "      <td>84.000000</td>\n",
       "      <td>82.00000</td>\n",
       "      <td>82.000000</td>\n",
       "      <td>81.000000</td>\n",
       "      <td>81.000000</td>\n",
       "    </tr>\n",
       "    <tr>\n",
       "      <th>max</th>\n",
       "      <td>255.000000</td>\n",
       "      <td>255.000000</td>\n",
       "      <td>255.000000</td>\n",
       "      <td>255.000000</td>\n",
       "      <td>255.000000</td>\n",
       "      <td>255.000000</td>\n",
       "      <td>255.000000</td>\n",
       "      <td>255.000000</td>\n",
       "      <td>255.000000</td>\n",
       "      <td>255.000000</td>\n",
       "      <td>...</td>\n",
       "      <td>255.000000</td>\n",
       "      <td>255.000000</td>\n",
       "      <td>255.000000</td>\n",
       "      <td>255.000000</td>\n",
       "      <td>255.000000</td>\n",
       "      <td>255.000000</td>\n",
       "      <td>255.00000</td>\n",
       "      <td>255.000000</td>\n",
       "      <td>255.000000</td>\n",
       "      <td>255.000000</td>\n",
       "    </tr>\n",
       "  </tbody>\n",
       "</table>\n",
       "<p>8 rows × 2304 columns</p>\n",
       "</div>"
      ],
      "text/plain": [
       "                 0            1            2            3            4  \\\n",
       "count  9690.000000  9690.000000  9690.000000  9690.000000  9690.000000   \n",
       "mean     89.658514    89.545201    89.343756    89.566770    89.812590   \n",
       "std      77.521341    77.430539    77.350452    77.498754    77.437292   \n",
       "min       5.000000     5.000000     4.000000     5.000000     5.000000   \n",
       "25%      32.000000    32.000000    32.000000    31.000000    32.000000   \n",
       "50%      57.000000    58.000000    57.000000    58.000000    58.000000   \n",
       "75%     126.000000   124.000000   122.750000   123.000000   125.000000   \n",
       "max     255.000000   255.000000   255.000000   255.000000   255.000000   \n",
       "\n",
       "                 5            6            7            8            9  ...  \\\n",
       "count  9690.000000  9690.000000  9690.000000  9690.000000  9690.000000  ...   \n",
       "mean     89.853251    89.883282    89.978431    90.170175    90.519092  ...   \n",
       "std      77.279125    77.085714    77.081732    77.062371    77.155644  ...   \n",
       "min       5.000000     5.000000     4.000000     4.000000     4.000000  ...   \n",
       "25%      32.000000    32.000000    33.000000    33.000000    33.000000  ...   \n",
       "50%      58.000000    58.000000    58.000000    59.000000    59.000000  ...   \n",
       "75%     123.750000   124.000000   124.000000   124.000000   126.000000  ...   \n",
       "max     255.000000   255.000000   255.000000   255.000000   255.000000  ...   \n",
       "\n",
       "              2294         2295         2296         2297         2298  \\\n",
       "count  9690.000000  9690.000000  9690.000000  9690.000000  9690.000000   \n",
       "mean     72.234881    71.833437    71.394118    70.572136    69.660165   \n",
       "std      65.369022    65.439225    65.402298    65.144238    64.885963   \n",
       "min       4.000000     4.000000     4.000000     5.000000     4.000000   \n",
       "25%      26.000000    26.000000    26.000000    26.000000    26.000000   \n",
       "50%      46.000000    46.000000    46.000000    45.000000    45.000000   \n",
       "75%      95.000000    93.000000    91.000000    88.000000    86.000000   \n",
       "max     255.000000   255.000000   255.000000   255.000000   255.000000   \n",
       "\n",
       "              2299        2300         2301         2302         2303  \n",
       "count  9690.000000  9690.00000  9690.000000  9690.000000  9690.000000  \n",
       "mean     68.878638    68.29453    67.831889    67.548297    67.393189  \n",
       "std      64.530366    64.27455    63.799350    63.437102    63.506304  \n",
       "min       4.000000     4.00000     5.000000     4.000000     4.000000  \n",
       "25%      25.000000    25.00000    25.000000    25.000000    25.000000  \n",
       "50%      44.000000    44.00000    43.000000    43.000000    43.000000  \n",
       "75%      84.000000    82.00000    82.000000    81.000000    81.000000  \n",
       "max     255.000000   255.00000   255.000000   255.000000   255.000000  \n",
       "\n",
       "[8 rows x 2304 columns]"
      ]
     },
     "execution_count": 8,
     "metadata": {},
     "output_type": "execute_result"
    }
   ],
   "source": [
    "# Summary statistics\n",
    "xtrain.describe()"
   ]
  },
  {
   "cell_type": "code",
   "execution_count": 9,
   "id": "8ef623b2",
   "metadata": {},
   "outputs": [
    {
     "name": "stdout",
     "output_type": "stream",
     "text": [
      "<class 'pandas.core.frame.DataFrame'>\n",
      "RangeIndex: 9690 entries, 0 to 9689\n",
      "Columns: 2304 entries, 0 to 2303\n",
      "dtypes: float64(2304)\n",
      "memory usage: 170.3 MB\n"
     ]
    }
   ],
   "source": [
    "xtrain.info()"
   ]
  },
  {
   "cell_type": "markdown",
   "id": "d8407cd2",
   "metadata": {},
   "source": [
    "## Missing values analysis"
   ]
  },
  {
   "cell_type": "code",
   "execution_count": 10,
   "id": "8f6e2ad6",
   "metadata": {},
   "outputs": [
    {
     "name": "stdout",
     "output_type": "stream",
     "text": [
      "Missing Values:\n",
      "----------------\n",
      "0       0\n",
      "1       0\n",
      "2       0\n",
      "3       0\n",
      "4       0\n",
      "       ..\n",
      "2299    0\n",
      "2300    0\n",
      "2301    0\n",
      "2302    0\n",
      "2303    0\n",
      "Length: 2304, dtype: int64\n"
     ]
    }
   ],
   "source": [
    "# Check for missing values\n",
    "missing_values = xtrain.isnull().sum()\n",
    "print(\"Missing Values:\")\n",
    "print(\"----------------\")\n",
    "print(missing_values)\n",
    "## There is no missing values..."
   ]
  },
  {
   "cell_type": "markdown",
   "id": "4c5f378d",
   "metadata": {},
   "source": [
    "## Findings\n",
    "\n",
    "There is no missing values in the dataset and so we are good here.."
   ]
  },
  {
   "cell_type": "markdown",
   "id": "d98fcba4",
   "metadata": {},
   "source": [
    "## Glimpse of data"
   ]
  },
  {
   "cell_type": "code",
   "execution_count": 11,
   "id": "f4feaab7",
   "metadata": {},
   "outputs": [
    {
     "data": {
      "text/plain": [
       "array([78., 77., 76., ..., 98., 95., 94.])"
      ]
     },
     "execution_count": 11,
     "metadata": {},
     "output_type": "execute_result"
    }
   ],
   "source": [
    "X = xtrain.values\n",
    "X[0]"
   ]
  },
  {
   "cell_type": "code",
   "execution_count": 12,
   "id": "b444e938",
   "metadata": {},
   "outputs": [
    {
     "data": {
      "text/plain": [
       "array([1])"
      ]
     },
     "execution_count": 12,
     "metadata": {},
     "output_type": "execute_result"
    }
   ],
   "source": [
    "Y = ytrain.values\n",
    "Y[1657]"
   ]
  },
  {
   "cell_type": "code",
   "execution_count": 13,
   "id": "edb42e8f",
   "metadata": {},
   "outputs": [
    {
     "data": {
      "text/plain": [
       "dtype('int64')"
      ]
     },
     "execution_count": 13,
     "metadata": {},
     "output_type": "execute_result"
    }
   ],
   "source": [
    "Y.dtype"
   ]
  },
  {
   "cell_type": "code",
   "execution_count": 14,
   "id": "b2796ea0",
   "metadata": {},
   "outputs": [
    {
     "data": {
      "image/png": "[encoded data removed]",
      "text/plain": [
       "<Figure size 432x288 with 1 Axes>"
      ]
     },
     "metadata": {
      "needs_background": "light"
     },
     "output_type": "display_data"
    }
   ],
   "source": [
    "some_digit = X[1500]\n",
    "some_digit_image = some_digit.reshape(48, 48)\n",
    "plt.imshow(some_digit_image, cmap=plt.cm.binary)\n",
    "plt.show()"
   ]
  },
  {
   "cell_type": "code",
   "execution_count": 15,
   "id": "4e2ed948",
   "metadata": {},
   "outputs": [
    {
     "data": {
      "image/png": "[encoded data removed]",
      "text/plain": [
       "<Figure size 432x288 with 1 Axes>"
      ]
     },
     "metadata": {
      "needs_background": "light"
     },
     "output_type": "display_data"
    }
   ],
   "source": [
    "some_digit = X[5000]\n",
    "some_digit_image = some_digit.reshape(48, 48)\n",
    "plt.imshow(some_digit_image, cmap=plt.cm.binary)\n",
    "plt.show()"
   ]
  },
  {
   "cell_type": "code",
   "execution_count": 16,
   "id": "cc431cc0",
   "metadata": {},
   "outputs": [
    {
     "data": {
      "image/png": "[encoded data removed]",
      "text/plain": [
       "<Figure size 3456x3456 with 1 Axes>"
      ]
     },
     "metadata": {
      "needs_background": "light"
     },
     "output_type": "display_data"
    }
   ],
   "source": [
    "def plot_digits(instances, images_per_row=10, **options):\n",
    "    size = 48  # Change the size to match your image size (48x48)\n",
    "    images_per_row = min(len(instances), images_per_row)\n",
    "    images = [instance.reshape(size, size) for instance in instances]\n",
    "    n_rows = (len(instances) - 1) // images_per_row + 1\n",
    "    row_images = []\n",
    "    n_empty = n_rows * images_per_row - len(instances)\n",
    "    images.append(np.zeros((size, size * n_empty)))\n",
    "    for row in range(n_rows):\n",
    "        rimages = images[row * images_per_row: (row + 1) * images_per_row]\n",
    "        row_images.append(np.concatenate(rimages, axis=1))\n",
    "    image = np.concatenate(row_images, axis=0)\n",
    "    plt.imshow(image, cmap=plt.cm.binary, **options)\n",
    "    plt.axis(\"off\")\n",
    "\n",
    "plt.figure(figsize=(48, 48))\n",
    "example_images = X[:20]\n",
    "plot_digits(example_images, images_per_row=10)\n",
    "plt.show()\n"
   ]
  },
  {
   "cell_type": "markdown",
   "id": "a4c4156c",
   "metadata": {},
   "source": [
    "## Findings\n",
    "\n",
    "Looking at above sample traffic signal images, they are speed limit signals like 30km/hour, 60km/hour, etc.."
   ]
  },
  {
   "cell_type": "markdown",
   "id": "c14bd38b",
   "metadata": {},
   "source": [
    "## Outlier analysis"
   ]
  },
  {
   "cell_type": "code",
   "execution_count": 17,
   "id": "66fe99dd",
   "metadata": {},
   "outputs": [
    {
     "data": {
      "image/png": "[encoded data removed]",
      "text/plain": [
       "<Figure size 864x432 with 1 Axes>"
      ]
     },
     "metadata": {
      "needs_background": "light"
     },
     "output_type": "display_data"
    }
   ],
   "source": [
    "#Randomly checking if the feature has any outliers\n",
    "subset_of_features = xtrain.iloc[:, :50]  # Example: Checking outliers for the first 50 features\n",
    "plt.figure(figsize=(12, 6))\n",
    "sns.boxplot(data=subset_of_features)\n",
    "plt.title('Box Plot of Features')\n",
    "plt.xticks(rotation=90)\n",
    "plt.show()"
   ]
  },
  {
   "cell_type": "code",
   "execution_count": 18,
   "id": "349fc023",
   "metadata": {},
   "outputs": [
    {
     "data": {
      "image/png": "[encoded data removed]",
      "text/plain": [
       "<Figure size 720x432 with 1 Axes>"
      ]
     },
     "metadata": {
      "needs_background": "light"
     },
     "output_type": "display_data"
    },
    {
     "name": "stdout",
     "output_type": "stream",
     "text": [
      "Number of outliers: 0\n",
      "Minimum value: 5.0\n",
      "Maximum value: 255.0\n",
      "Mean value: 88.88844169246646\n",
      "Standard deviation: 76.52516290632715\n",
      "Lower threshold for outliers: -293.7373728391693\n",
      "Upper threshold for outliers: 471.51425622410227\n"
     ]
    },
    {
     "data": {
      "image/png": "[encoded data removed]",
      "text/plain": [
       "<Figure size 432x288 with 1 Axes>"
      ]
     },
     "metadata": {
      "needs_background": "light"
     },
     "output_type": "display_data"
    }
   ],
   "source": [
    "\n",
    "# Need to visualize sample single image feature to understand the pattern, for example am taking \n",
    "# index 0, 100, 1000 for my analysis\n",
    "feature_index = 100\n",
    "selected_feature = xtrain.iloc[:, feature_index]\n",
    "\n",
    "# Visualize the distribution of the selected feature\n",
    "plt.figure(figsize=(10, 6))\n",
    "sns.histplot(selected_feature, bins=50, kde=True)\n",
    "plt.title(f'Distribution of Feature {feature_index}')\n",
    "plt.xlabel('Feature Value')\n",
    "plt.ylabel('Frequency')\n",
    "plt.show()\n",
    "\n",
    "# Define a threshold for outliers (e.g., values outside of 3 standard deviations from the mean)\n",
    "threshold = 5  # You can adjust this threshold based on your data and problem\n",
    "\n",
    "# Identify outliers\n",
    "mean_value = np.mean(selected_feature)\n",
    "std_deviation = np.std(selected_feature)\n",
    "lower_threshold = mean_value - threshold * std_deviation\n",
    "upper_threshold = mean_value + threshold * std_deviation\n",
    "\n",
    "outliers = selected_feature[(selected_feature < lower_threshold) | (selected_feature > upper_threshold)]\n",
    "\n",
    "# Print information about outliers\n",
    "print(f'Number of outliers: {len(outliers)}')\n",
    "print(f'Minimum value: {selected_feature.min()}')\n",
    "print(f'Maximum value: {selected_feature.max()}')\n",
    "print(f'Mean value: {mean_value}')\n",
    "print(f'Standard deviation: {std_deviation}')\n",
    "print(f'Lower threshold for outliers: {lower_threshold}')\n",
    "print(f'Upper threshold for outliers: {upper_threshold}')\n",
    "\n",
    "# Optionally, you can visualize the outliers using a box plot\n",
    "plt.figure(figsize=(6, 4))\n",
    "sns.boxplot(data=selected_feature)\n",
    "plt.title(f'Box Plot of Feature {feature_index}')\n",
    "plt.xlabel('Feature')\n",
    "plt.show()\n"
   ]
  },
  {
   "cell_type": "markdown",
   "id": "563a6167",
   "metadata": {},
   "source": [
    "## Findings\n",
    "\n",
    "There are no outliers detected for this specific feature. All data points fall within the defined outlier threshold limits.\n",
    "\n",
    "The absence of outliers for the set of sample feature suggests that it may not require us performing any outlier-specific treatment."
   ]
  },
  {
   "cell_type": "markdown",
   "id": "4882bdd9",
   "metadata": {},
   "source": [
    "## Analyzing number of classes or labels"
   ]
  },
  {
   "cell_type": "code",
   "execution_count": 19,
   "id": "dfed7387",
   "metadata": {},
   "outputs": [
    {
     "name": "stdout",
     "output_type": "stream",
     "text": [
      "Number of unique classes: 10\n"
     ]
    }
   ],
   "source": [
    "# Check how many classes are available in ytrain\n",
    "num_classes = ytrain['0'].nunique()\n",
    "print(f\"Number of unique classes: {num_classes}\")"
   ]
  },
  {
   "cell_type": "code",
   "execution_count": 20,
   "id": "7b5f64b0",
   "metadata": {},
   "outputs": [
    {
     "data": {
      "image/png": "[encoded data removed]",
      "text/plain": [
       "<Figure size 864x432 with 1 Axes>"
      ]
     },
     "metadata": {
      "needs_background": "light"
     },
     "output_type": "display_data"
    }
   ],
   "source": [
    "class_counts = ytrain['0'].value_counts().reset_index()\n",
    "class_counts.columns = ['Class', 'Count']\n",
    "\n",
    "# Sort the classes by count (optional)\n",
    "class_counts = class_counts.sort_values(by='Count', ascending=False)\n",
    "\n",
    "# Create a bar plot\n",
    "plt.figure(figsize=(12, 6))\n",
    "bars = plt.bar(class_counts['Class'], class_counts['Count'])\n",
    "plt.xlabel('Class')\n",
    "plt.ylabel('Count')\n",
    "plt.title('Class Distribution')\n",
    "plt.xticks(rotation=90)  # Rotate class labels for better readability\n",
    "\n",
    "# Add data labels to each bar\n",
    "for bar in bars:\n",
    "    height = bar.get_height()\n",
    "    plt.annotate(f'{int(height)}', xy=(bar.get_x() + bar.get_width() / 2, height),\n",
    "                 xytext=(0, 3),  # 3 points vertical offset for the label\n",
    "                 textcoords=\"offset points\",\n",
    "                 ha='center', va='bottom')\n",
    "\n",
    "plt.show()\n"
   ]
  },
  {
   "cell_type": "markdown",
   "id": "661f00b0",
   "metadata": {},
   "source": [
    "# Findings\n",
    "\n",
    "There is a significant class imbalance in the dataset. Class 2 and Class 1 have the highest counts (2250 and 2220, respectively), while other classes have considerably lower counts. This imbalance may pose challenges when training a machine learning model, as the model might be biased towards the majority classes.\n",
    "\n",
    "To address this issue and improve model performance while avoiding overfitting problems, we can consider the following techniques:\n",
    "\n",
    "1. **Class Balancing**: We might consider techniques to address class imbalance, such as oversampling the minority classes (creating more samples for the underrepresented classes) or undersampling the majority classes (reducing the number of samples for the overrepresented classes). Another approach is using synthetic data generation techniques like SMOTE (Synthetic Minority Over-sampling Technique).\n",
    "\n",
    "2. **Data Augmentation**: Since this is image data, data augmentation can be beneficial as well. Generate augmented images by applying random transformations like rotation, scaling, and flipping to increase the diversity of your dataset. This can help the model perform better on all classes.\n",
    "\n",
    "Let's experiment with the above two techniques and validate their performances.\n"
   ]
  },
  {
   "cell_type": "markdown",
   "id": "d87ea32a",
   "metadata": {},
   "source": [
    "### Do we need to apply any preprocessing or normalization procedures? If so, why?"
   ]
  },
  {
   "cell_type": "markdown",
   "id": "980f6ef6",
   "metadata": {},
   "source": [
    "Whether we need to perform feature scaling on our dataset depends on the machine learning algorithms \n",
    "we plan to use and the nature of the features. \n",
    "\n",
    "Here are some considerations to help you decide if feature scaling is necessary for our dataset:\n",
    "\n",
    "1. Many machine learning algorithms are sensitive to the scale of features. Examples include gradient-based optimization algorithms (e.g., gradient descent), k-nearest neighbors, and support vector machines. Rescaling features can help these algorithms converge faster and produce better results.\n",
    "\n",
    "2. Algorithms that rely on distance metrics, such as k-means clustering, hierarchical clustering, and some variants of principal component analysis (PCA), can be influenced by the scale of features. \n",
    "\n",
    "***Tree-based algorithms are fairly insensitive to the scale of the features***\n",
    "\n",
    "Related Articles:\n",
    "    https://www.analyticsvidhya.com/blog/2022/10/frequently-asked-interview-questions-on-naive-bayes-classifier/#:~:text=A%20sure%20short%20answer%20should,will%20not%20require%20feature%20scaling.\n",
    "    https://towardsdatascience.com/what-is-feature-scaling-why-is-it-important-in-machine-learning-2854ae877048#:~:text=Feature%20scaling%20is%20the%20process,need%20to%20perform%20feature%20scaling.\n",
    "    https://atoti.io/articles/when-to-perform-a-feature-scaling/"
   ]
  },
  {
   "cell_type": "markdown",
   "id": "c3781a8d",
   "metadata": {},
   "source": [
    "## Bayes Algorithm"
   ]
  },
  {
   "cell_type": "markdown",
   "id": "3fccb3a7",
   "metadata": {},
   "source": [
    "***Do we need feature scaling for Bayes Net?***\n",
    "\n",
    "Naïve Bayes is generally not sensitive to feature scaling because it's based on probability and conditional independence assumptions rather than the absolute values of features. This property makes Naïve Bayes one of the few machine learning algorithms that often work well without the need for feature scaling."
   ]
  },
  {
   "cell_type": "markdown",
   "id": "aef478c4",
   "metadata": {},
   "source": [
    "## Multinomial NB"
   ]
  },
  {
   "cell_type": "markdown",
   "id": "4fa5cd3b",
   "metadata": {},
   "source": [
    "## Preprocessing - Experiment1: Class Balancing (Over Sampling)"
   ]
  },
  {
   "cell_type": "code",
   "execution_count": 59,
   "id": "4138cc6d",
   "metadata": {},
   "outputs": [],
   "source": [
    "# Split the data into training and testing sets\n",
    "X_train, X_test, y_train, y_test = train_test_split(X_train, y_train, test_size=0.2, random_state=42)\n",
    "\n",
    "# Initialize SMOTE to oversample the minority classes\n",
    "smote = SMOTE(random_state=42)\n",
    "\n",
    "# Fit and apply SMOTE to the training data only\n",
    "X_train_resampled, y_train_resampled = smote.fit_resample(X_train, y_train)\n",
    "\n",
    "# Now, X_train_resampled and y_train_resampled contain the balanced training data\n",
    "# We can proceed to train the machine learning model on this balanced dataset\n"
   ]
  },
  {
   "cell_type": "code",
   "execution_count": 60,
   "id": "0be95008",
   "metadata": {},
   "outputs": [
    {
     "data": {
      "image/png": "[encoded data removed]",
      "text/plain": [
       "<Figure size 432x288 with 1 Axes>"
      ]
     },
     "metadata": {
      "needs_background": "light"
     },
     "output_type": "display_data"
    }
   ],
   "source": [
    "# Visualize oversampled data\n",
    "sns.countplot(x=y_train_resampled)\n",
    "plt.title('Class Distribution After SMOTE')\n",
    "plt.xlabel('Class')\n",
    "plt.ylabel('Count')\n",
    "plt.show()\n",
    "\n",
    "# Perfect to go!"
   ]
  },
  {
   "cell_type": "markdown",
   "id": "bc606d06",
   "metadata": {},
   "source": [
    "### Model training, prediction and validation on original data"
   ]
  },
  {
   "cell_type": "code",
   "execution_count": 61,
   "id": "c2e78d56",
   "metadata": {},
   "outputs": [
    {
     "name": "stdout",
     "output_type": "stream",
     "text": [
      "Accuracy: 0.3634897597161748\n",
      "              precision    recall  f1-score   support\n",
      "\n",
      "           0       0.10      0.36      0.16       119\n",
      "           1       0.44      0.22      0.29      1423\n",
      "           2       0.39      0.32      0.35      1412\n",
      "           3       0.32      0.38      0.35       885\n",
      "           4       0.42      0.62      0.50      1285\n",
      "           5       0.21      0.61      0.32       143\n",
      "           6       0.22      0.08      0.12       228\n",
      "           7       0.41      0.39      0.39       161\n",
      "           8       0.69      0.26      0.38       368\n",
      "           9       0.28      0.27      0.27       177\n",
      "\n",
      "    accuracy                           0.36      6201\n",
      "   macro avg       0.35      0.35      0.31      6201\n",
      "weighted avg       0.40      0.36      0.36      6201\n",
      "\n",
      "Confusion Matrix:\n",
      " [[ 43  21  23  20  10   0   2   0   0   0]\n",
      " [237 314 286 204 318   3  23   3   4  31]\n",
      " [ 85 126 450 193 512  20   6   2   4  14]\n",
      " [ 34  95 185 338 219   5   4   1   2   2]\n",
      " [ 30 113 114 214 798   2   7   0   0   7]\n",
      " [  0   0  24   1   4  87   1   7  12   7]\n",
      " [  0  22  35  36   7  64  19  22  12  11]\n",
      " [  0   0   2  21   0  52   6  62   6  12]\n",
      " [  2  10  12  12   8 124  17  47  95  41]\n",
      " [  1  12  21  26   3  52   2   9   3  48]]\n"
     ]
    },
    {
     "name": "stderr",
     "output_type": "stream",
     "text": [
      "/Users/pramodkumarnaik/opt/anaconda3/lib/python3.9/site-packages/sklearn/utils/validation.py:993: DataConversionWarning: A column-vector y was passed when a 1d array was expected. Please change the shape of y to (n_samples, ), for example using ravel().\n",
      "  y = column_or_1d(y, warn=True)\n",
      "/Users/pramodkumarnaik/opt/anaconda3/lib/python3.9/site-packages/sklearn/utils/validation.py:993: DataConversionWarning: A column-vector y was passed when a 1d array was expected. Please change the shape of y to (n_samples, ), for example using ravel().\n",
      "  y = column_or_1d(y, warn=True)\n",
      "/Users/pramodkumarnaik/opt/anaconda3/lib/python3.9/site-packages/sklearn/utils/validation.py:993: DataConversionWarning: A column-vector y was passed when a 1d array was expected. Please change the shape of y to (n_samples, ), for example using ravel().\n",
      "  y = column_or_1d(y, warn=True)\n",
      "/Users/pramodkumarnaik/opt/anaconda3/lib/python3.9/site-packages/sklearn/utils/validation.py:993: DataConversionWarning: A column-vector y was passed when a 1d array was expected. Please change the shape of y to (n_samples, ), for example using ravel().\n",
      "  y = column_or_1d(y, warn=True)\n",
      "/Users/pramodkumarnaik/opt/anaconda3/lib/python3.9/site-packages/sklearn/utils/validation.py:993: DataConversionWarning: A column-vector y was passed when a 1d array was expected. Please change the shape of y to (n_samples, ), for example using ravel().\n",
      "  y = column_or_1d(y, warn=True)\n"
     ]
    }
   ],
   "source": [
    "# Create a Multinomial Naïve Bayes classifier\n",
    "nb_classifier = MultinomialNB()\n",
    "\n",
    "# Perform cross-validation and get predictions\n",
    "y_pred = cross_val_predict(nb_classifier, X_train, y_train, cv=5)\n",
    "\n",
    "# Calculate accuracy\n",
    "accuracy = accuracy_score(y_train, y_pred)\n",
    "\n",
    "# Generate a classification report\n",
    "report = classification_report(y_train, y_pred)\n",
    "\n",
    "# Create a confusion matrix\n",
    "confusion = confusion_matrix(y_train, y_pred)\n",
    "\n",
    "# Print the metrics\n",
    "print(f\"Accuracy: {accuracy}\")\n",
    "print(report)\n",
    "print(\"Confusion Matrix:\\n\", confusion)\n"
   ]
  },
  {
   "cell_type": "markdown",
   "id": "b6bdb481",
   "metadata": {},
   "source": [
    "### Model training, prediction and validation on oversampled data"
   ]
  },
  {
   "cell_type": "code",
   "execution_count": 29,
   "id": "880f5e2e",
   "metadata": {},
   "outputs": [
    {
     "name": "stdout",
     "output_type": "stream",
     "text": [
      "Accuracy: 0.3611266034578918\n",
      "              precision    recall  f1-score   support\n",
      "\n",
      "           0       0.54      0.42      0.47      1793\n",
      "           1       0.26      0.17      0.21      1793\n",
      "           2       0.26      0.29      0.28      1793\n",
      "           3       0.30      0.38      0.34      1793\n",
      "           4       0.38      0.62      0.47      1793\n",
      "           5       0.32      0.66      0.43      1793\n",
      "           6       0.36      0.20      0.26      1793\n",
      "           7       0.45      0.35      0.39      1793\n",
      "           8       0.40      0.26      0.31      1793\n",
      "           9       0.53      0.26      0.35      1793\n",
      "\n",
      "    accuracy                           0.36     17930\n",
      "   macro avg       0.38      0.36      0.35     17930\n",
      "weighted avg       0.38      0.36      0.35     17930\n",
      "\n",
      "Confusion Matrix:\n",
      " [[ 748  295  323  222  151    0   11    0    3   40]\n",
      " [ 364  307  329  240  412   20   42    6   16   57]\n",
      " [ 120  139  525  239  652   51   11    9    9   38]\n",
      " [  82  164  319  687  491   10   16    0    3   21]\n",
      " [  54  138  144  282 1114    7   16    0    0   38]\n",
      " [   0    0   92    0   15 1186   28  172  246   54]\n",
      " [   9   41   62  157   24  602  357  226  292   23]\n",
      " [   0    0    0  224   10  648  128  623   79   81]\n",
      " [   4    3   18   29    3  647  277  294  460   58]\n",
      " [   0   94  212  215   37  586   95   58   28  468]]\n"
     ]
    }
   ],
   "source": [
    "# Create a Multinomial Naïve Bayes classifier\n",
    "nb_classifier = MultinomialNB()\n",
    "\n",
    "# Perform cross-validation and get predictions\n",
    "y_pred_over = cross_val_predict(nb_classifier, X_train_resampled, y_train_resampled, cv=5)\n",
    "\n",
    "# Calculate accuracy\n",
    "accuracy = accuracy_score(y_train_resampled, y_pred_over)\n",
    "\n",
    "# Generate a classification report\n",
    "report = classification_report(y_train_resampled, y_pred_over)\n",
    "\n",
    "# Create a confusion matrix\n",
    "confusion = confusion_matrix(y_train_resampled, y_pred_over)\n",
    "\n",
    "# Print the metrics\n",
    "print(f\"Accuracy: {accuracy}\")\n",
    "print(report)\n",
    "print(\"Confusion Matrix:\\n\", confusion)\n"
   ]
  },
  {
   "cell_type": "markdown",
   "id": "cff629ab",
   "metadata": {},
   "source": [
    "## Experiment2: Class Balancing (Under Sampling)"
   ]
  },
  {
   "cell_type": "code",
   "execution_count": 48,
   "id": "d53b431e",
   "metadata": {},
   "outputs": [],
   "source": [
    "from imblearn.under_sampling import RandomUnderSampler\n",
    "\n",
    "# Initialize the RandomUnderSampler\n",
    "rus = RandomUnderSampler(random_state=42)\n",
    "\n",
    "# Fit and apply the RandomUnderSampler to the training data only\n",
    "X_train_under, y_train_under = rus.fit_resample(X_train, y_train)\n",
    "\n",
    "# Now, X_train_resampled and y_train_resampled contain the balanced training data with undersampling\n",
    "# we can proceed to train your machine learning model on this balanced dataset\n"
   ]
  },
  {
   "cell_type": "code",
   "execution_count": 45,
   "id": "60121066",
   "metadata": {},
   "outputs": [
    {
     "data": {
      "image/png": "[encoded data removed]",
      "text/plain": [
       "<Figure size 432x288 with 1 Axes>"
      ]
     },
     "metadata": {
      "needs_background": "light"
     },
     "output_type": "display_data"
    }
   ],
   "source": [
    "# Visualize oversampled data\n",
    "sns.countplot(x=y_train_under)\n",
    "plt.title('Class Distribution After Under Sampling')\n",
    "plt.xlabel('Class')\n",
    "plt.ylabel('Count')\n",
    "plt.show()\n",
    "\n",
    "# Perfect to go!"
   ]
  },
  {
   "cell_type": "code",
   "execution_count": 47,
   "id": "5e2b608f",
   "metadata": {},
   "outputs": [
    {
     "name": "stdout",
     "output_type": "stream",
     "text": [
      "Accuracy: 0.3548780487804878\n",
      "              precision    recall  f1-score   support\n",
      "\n",
      "           0       0.55      0.40      0.46       164\n",
      "           1       0.29      0.16      0.21       164\n",
      "           2       0.32      0.35      0.33       164\n",
      "           3       0.30      0.45      0.36       164\n",
      "           4       0.37      0.64      0.47       164\n",
      "           5       0.33      0.67      0.44       164\n",
      "           6       0.29      0.13      0.18       164\n",
      "           7       0.44      0.29      0.35       164\n",
      "           8       0.35      0.24      0.28       164\n",
      "           9       0.41      0.21      0.28       164\n",
      "\n",
      "    accuracy                           0.35      1640\n",
      "   macro avg       0.36      0.35      0.34      1640\n",
      "weighted avg       0.36      0.35      0.34      1640\n",
      "\n",
      "Confusion Matrix:\n",
      " [[ 66  22  25  22  21   0   3   1   1   3]\n",
      " [ 28  27  34  22  37   0   6   0   4   6]\n",
      " [ 10  13  57  18  62   1   1   0   0   2]\n",
      " [  9   8  21  73  47   0   5   0   0   1]\n",
      " [  3  10  15  27 105   1   1   0   0   2]\n",
      " [  0   0   6   0   2 110   2  12  23   9]\n",
      " [  2   2   2  24   4  52  22  20  29   7]\n",
      " [  0   0   0  24   1  63  10  48  10   8]\n",
      " [  1   1   2   5   2  59  20  23  39  12]\n",
      " [  1  10  16  30   5  49   7   4   7  35]]\n"
     ]
    }
   ],
   "source": [
    "# Create a Multinomial Naïve Bayes classifier\n",
    "nb = MultinomialNB()\n",
    "\n",
    "# Perform cross-validation and get predictions\n",
    "y_pred_under = cross_val_predict(nb, X_train_under, y_train_under, cv=5)\n",
    "\n",
    "# Calculate accuracy\n",
    "accuracy = accuracy_score(y_train_under, y_pred_under)\n",
    "\n",
    "# Generate a classification report\n",
    "report = classification_report(y_train_under, y_pred_under)\n",
    "\n",
    "# Create a confusion matrix\n",
    "confusion = confusion_matrix(y_train_under, y_pred_under)\n",
    "\n",
    "# Print the metrics\n",
    "print(f\"Accuracy: {accuracy}\")\n",
    "print(report)\n",
    "print(\"Confusion Matrix:\\n\", confusion)\n"
   ]
  },
  {
   "cell_type": "markdown",
   "id": "ca5e08d3",
   "metadata": {},
   "source": [
    "## Lets try the same experiment on binary dataset"
   ]
  },
  {
   "cell_type": "markdown",
   "id": "e9c10cdc",
   "metadata": {},
   "source": [
    "### 1) Multinormial NB"
   ]
  },
  {
   "cell_type": "code",
   "execution_count": 52,
   "id": "5316b651",
   "metadata": {},
   "outputs": [],
   "source": [
    "# Load the dataset\n",
    "xtrain_bin = pd.read_csv('x_train_bin.csv')\n",
    "ytrain_bin = pd.read_csv('y_train_bin.csv')"
   ]
  },
  {
   "cell_type": "code",
   "execution_count": 57,
   "id": "20efb79a",
   "metadata": {},
   "outputs": [
    {
     "data": {
      "text/html": [
       "<div>\n",
       "<style scoped>\n",
       "    .dataframe tbody tr th:only-of-type {\n",
       "        vertical-align: middle;\n",
       "    }\n",
       "\n",
       "    .dataframe tbody tr th {\n",
       "        vertical-align: top;\n",
       "    }\n",
       "\n",
       "    .dataframe thead th {\n",
       "        text-align: right;\n",
       "    }\n",
       "</style>\n",
       "<table border=\"1\" class=\"dataframe\">\n",
       "  <thead>\n",
       "    <tr style=\"text-align: right;\">\n",
       "      <th></th>\n",
       "      <th>0</th>\n",
       "      <th>1</th>\n",
       "      <th>2</th>\n",
       "      <th>3</th>\n",
       "      <th>4</th>\n",
       "      <th>5</th>\n",
       "      <th>6</th>\n",
       "      <th>7</th>\n",
       "      <th>8</th>\n",
       "      <th>9</th>\n",
       "      <th>...</th>\n",
       "      <th>2294</th>\n",
       "      <th>2295</th>\n",
       "      <th>2296</th>\n",
       "      <th>2297</th>\n",
       "      <th>2298</th>\n",
       "      <th>2299</th>\n",
       "      <th>2300</th>\n",
       "      <th>2301</th>\n",
       "      <th>2302</th>\n",
       "      <th>2303</th>\n",
       "    </tr>\n",
       "  </thead>\n",
       "  <tbody>\n",
       "    <tr>\n",
       "      <th>count</th>\n",
       "      <td>2430.000000</td>\n",
       "      <td>2430.000000</td>\n",
       "      <td>2430.000000</td>\n",
       "      <td>2430.000000</td>\n",
       "      <td>2430.000000</td>\n",
       "      <td>2430.000000</td>\n",
       "      <td>2430.000000</td>\n",
       "      <td>2430.000000</td>\n",
       "      <td>2430.000000</td>\n",
       "      <td>2430.000000</td>\n",
       "      <td>...</td>\n",
       "      <td>2430.000000</td>\n",
       "      <td>2430.000000</td>\n",
       "      <td>2430.000000</td>\n",
       "      <td>2430.000000</td>\n",
       "      <td>2430.000000</td>\n",
       "      <td>2430.000000</td>\n",
       "      <td>2430.000000</td>\n",
       "      <td>2430.000000</td>\n",
       "      <td>2430.000000</td>\n",
       "      <td>2430.000000</td>\n",
       "    </tr>\n",
       "    <tr>\n",
       "      <th>mean</th>\n",
       "      <td>107.626337</td>\n",
       "      <td>107.997531</td>\n",
       "      <td>107.642387</td>\n",
       "      <td>107.848148</td>\n",
       "      <td>108.282716</td>\n",
       "      <td>108.447325</td>\n",
       "      <td>109.094650</td>\n",
       "      <td>109.758848</td>\n",
       "      <td>109.731687</td>\n",
       "      <td>110.120988</td>\n",
       "      <td>...</td>\n",
       "      <td>98.186831</td>\n",
       "      <td>97.595885</td>\n",
       "      <td>97.439918</td>\n",
       "      <td>96.228807</td>\n",
       "      <td>94.332922</td>\n",
       "      <td>92.999177</td>\n",
       "      <td>91.760905</td>\n",
       "      <td>90.911111</td>\n",
       "      <td>90.803292</td>\n",
       "      <td>90.398354</td>\n",
       "    </tr>\n",
       "    <tr>\n",
       "      <th>std</th>\n",
       "      <td>76.491958</td>\n",
       "      <td>76.997490</td>\n",
       "      <td>76.947931</td>\n",
       "      <td>76.651862</td>\n",
       "      <td>76.140000</td>\n",
       "      <td>75.619028</td>\n",
       "      <td>75.465342</td>\n",
       "      <td>75.633040</td>\n",
       "      <td>75.917473</td>\n",
       "      <td>76.222585</td>\n",
       "      <td>...</td>\n",
       "      <td>69.569017</td>\n",
       "      <td>69.781701</td>\n",
       "      <td>70.654812</td>\n",
       "      <td>71.118045</td>\n",
       "      <td>71.099191</td>\n",
       "      <td>70.851337</td>\n",
       "      <td>70.482417</td>\n",
       "      <td>70.175053</td>\n",
       "      <td>69.958424</td>\n",
       "      <td>70.347243</td>\n",
       "    </tr>\n",
       "    <tr>\n",
       "      <th>min</th>\n",
       "      <td>9.000000</td>\n",
       "      <td>9.000000</td>\n",
       "      <td>9.000000</td>\n",
       "      <td>9.000000</td>\n",
       "      <td>9.000000</td>\n",
       "      <td>9.000000</td>\n",
       "      <td>9.000000</td>\n",
       "      <td>9.000000</td>\n",
       "      <td>9.000000</td>\n",
       "      <td>9.000000</td>\n",
       "      <td>...</td>\n",
       "      <td>6.000000</td>\n",
       "      <td>6.000000</td>\n",
       "      <td>6.000000</td>\n",
       "      <td>6.000000</td>\n",
       "      <td>6.000000</td>\n",
       "      <td>6.000000</td>\n",
       "      <td>6.000000</td>\n",
       "      <td>6.000000</td>\n",
       "      <td>6.000000</td>\n",
       "      <td>6.000000</td>\n",
       "    </tr>\n",
       "    <tr>\n",
       "      <th>25%</th>\n",
       "      <td>48.000000</td>\n",
       "      <td>49.000000</td>\n",
       "      <td>49.000000</td>\n",
       "      <td>49.000000</td>\n",
       "      <td>50.000000</td>\n",
       "      <td>52.000000</td>\n",
       "      <td>51.000000</td>\n",
       "      <td>52.000000</td>\n",
       "      <td>51.000000</td>\n",
       "      <td>50.000000</td>\n",
       "      <td>...</td>\n",
       "      <td>42.000000</td>\n",
       "      <td>43.000000</td>\n",
       "      <td>43.000000</td>\n",
       "      <td>42.000000</td>\n",
       "      <td>41.000000</td>\n",
       "      <td>41.000000</td>\n",
       "      <td>40.000000</td>\n",
       "      <td>39.000000</td>\n",
       "      <td>39.000000</td>\n",
       "      <td>39.000000</td>\n",
       "    </tr>\n",
       "    <tr>\n",
       "      <th>50%</th>\n",
       "      <td>79.000000</td>\n",
       "      <td>79.000000</td>\n",
       "      <td>78.000000</td>\n",
       "      <td>79.000000</td>\n",
       "      <td>79.000000</td>\n",
       "      <td>80.000000</td>\n",
       "      <td>81.000000</td>\n",
       "      <td>81.000000</td>\n",
       "      <td>80.000000</td>\n",
       "      <td>82.000000</td>\n",
       "      <td>...</td>\n",
       "      <td>75.000000</td>\n",
       "      <td>75.000000</td>\n",
       "      <td>73.000000</td>\n",
       "      <td>71.000000</td>\n",
       "      <td>67.000000</td>\n",
       "      <td>66.000000</td>\n",
       "      <td>64.000000</td>\n",
       "      <td>64.000000</td>\n",
       "      <td>64.000000</td>\n",
       "      <td>62.000000</td>\n",
       "    </tr>\n",
       "    <tr>\n",
       "      <th>75%</th>\n",
       "      <td>156.000000</td>\n",
       "      <td>155.000000</td>\n",
       "      <td>153.750000</td>\n",
       "      <td>154.000000</td>\n",
       "      <td>153.000000</td>\n",
       "      <td>152.000000</td>\n",
       "      <td>152.000000</td>\n",
       "      <td>157.750000</td>\n",
       "      <td>157.750000</td>\n",
       "      <td>159.000000</td>\n",
       "      <td>...</td>\n",
       "      <td>140.000000</td>\n",
       "      <td>140.000000</td>\n",
       "      <td>137.000000</td>\n",
       "      <td>134.000000</td>\n",
       "      <td>127.000000</td>\n",
       "      <td>127.000000</td>\n",
       "      <td>126.750000</td>\n",
       "      <td>126.000000</td>\n",
       "      <td>125.000000</td>\n",
       "      <td>125.000000</td>\n",
       "    </tr>\n",
       "    <tr>\n",
       "      <th>max</th>\n",
       "      <td>255.000000</td>\n",
       "      <td>255.000000</td>\n",
       "      <td>255.000000</td>\n",
       "      <td>255.000000</td>\n",
       "      <td>255.000000</td>\n",
       "      <td>255.000000</td>\n",
       "      <td>255.000000</td>\n",
       "      <td>255.000000</td>\n",
       "      <td>255.000000</td>\n",
       "      <td>255.000000</td>\n",
       "      <td>...</td>\n",
       "      <td>255.000000</td>\n",
       "      <td>255.000000</td>\n",
       "      <td>255.000000</td>\n",
       "      <td>255.000000</td>\n",
       "      <td>255.000000</td>\n",
       "      <td>255.000000</td>\n",
       "      <td>255.000000</td>\n",
       "      <td>255.000000</td>\n",
       "      <td>255.000000</td>\n",
       "      <td>255.000000</td>\n",
       "    </tr>\n",
       "  </tbody>\n",
       "</table>\n",
       "<p>8 rows × 2304 columns</p>\n",
       "</div>"
      ],
      "text/plain": [
       "                 0            1            2            3            4  \\\n",
       "count  2430.000000  2430.000000  2430.000000  2430.000000  2430.000000   \n",
       "mean    107.626337   107.997531   107.642387   107.848148   108.282716   \n",
       "std      76.491958    76.997490    76.947931    76.651862    76.140000   \n",
       "min       9.000000     9.000000     9.000000     9.000000     9.000000   \n",
       "25%      48.000000    49.000000    49.000000    49.000000    50.000000   \n",
       "50%      79.000000    79.000000    78.000000    79.000000    79.000000   \n",
       "75%     156.000000   155.000000   153.750000   154.000000   153.000000   \n",
       "max     255.000000   255.000000   255.000000   255.000000   255.000000   \n",
       "\n",
       "                 5            6            7            8            9  ...  \\\n",
       "count  2430.000000  2430.000000  2430.000000  2430.000000  2430.000000  ...   \n",
       "mean    108.447325   109.094650   109.758848   109.731687   110.120988  ...   \n",
       "std      75.619028    75.465342    75.633040    75.917473    76.222585  ...   \n",
       "min       9.000000     9.000000     9.000000     9.000000     9.000000  ...   \n",
       "25%      52.000000    51.000000    52.000000    51.000000    50.000000  ...   \n",
       "50%      80.000000    81.000000    81.000000    80.000000    82.000000  ...   \n",
       "75%     152.000000   152.000000   157.750000   157.750000   159.000000  ...   \n",
       "max     255.000000   255.000000   255.000000   255.000000   255.000000  ...   \n",
       "\n",
       "              2294         2295         2296         2297         2298  \\\n",
       "count  2430.000000  2430.000000  2430.000000  2430.000000  2430.000000   \n",
       "mean     98.186831    97.595885    97.439918    96.228807    94.332922   \n",
       "std      69.569017    69.781701    70.654812    71.118045    71.099191   \n",
       "min       6.000000     6.000000     6.000000     6.000000     6.000000   \n",
       "25%      42.000000    43.000000    43.000000    42.000000    41.000000   \n",
       "50%      75.000000    75.000000    73.000000    71.000000    67.000000   \n",
       "75%     140.000000   140.000000   137.000000   134.000000   127.000000   \n",
       "max     255.000000   255.000000   255.000000   255.000000   255.000000   \n",
       "\n",
       "              2299         2300         2301         2302         2303  \n",
       "count  2430.000000  2430.000000  2430.000000  2430.000000  2430.000000  \n",
       "mean     92.999177    91.760905    90.911111    90.803292    90.398354  \n",
       "std      70.851337    70.482417    70.175053    69.958424    70.347243  \n",
       "min       6.000000     6.000000     6.000000     6.000000     6.000000  \n",
       "25%      41.000000    40.000000    39.000000    39.000000    39.000000  \n",
       "50%      66.000000    64.000000    64.000000    64.000000    62.000000  \n",
       "75%     127.000000   126.750000   126.000000   125.000000   125.000000  \n",
       "max     255.000000   255.000000   255.000000   255.000000   255.000000  \n",
       "\n",
       "[8 rows x 2304 columns]"
      ]
     },
     "execution_count": 57,
     "metadata": {},
     "output_type": "execute_result"
    }
   ],
   "source": [
    "xtrain_bin.describe()"
   ]
  },
  {
   "cell_type": "code",
   "execution_count": 55,
   "id": "d005e82d",
   "metadata": {},
   "outputs": [
    {
     "data": {
      "image/png": "[encoded data removed]",
      "text/plain": [
       "<Figure size 864x432 with 1 Axes>"
      ]
     },
     "metadata": {
      "needs_background": "light"
     },
     "output_type": "display_data"
    }
   ],
   "source": [
    "class_counts = ytrain_bin['0'].value_counts().reset_index()\n",
    "class_counts.columns = ['Class', 'Count']\n",
    "\n",
    "# Sort the classes by count (optional)\n",
    "class_counts = class_counts.sort_values(by='Count', ascending=False)\n",
    "\n",
    "# Create a bar plot\n",
    "plt.figure(figsize=(12, 6))\n",
    "bars = plt.bar(class_counts['Class'], class_counts['Count'])\n",
    "plt.xlabel('Class')\n",
    "plt.ylabel('Count')\n",
    "plt.title('Class Distribution')\n",
    "plt.xticks(rotation=90)  # Rotate class labels for better readability\n",
    "\n",
    "# Add data labels to each bar\n",
    "for bar in bars:\n",
    "    height = bar.get_height()\n",
    "    plt.annotate(f'{int(height)}', xy=(bar.get_x() + bar.get_width() / 2, height),\n",
    "                 xytext=(0, 3),  # 3 points vertical offset for the label\n",
    "                 textcoords=\"offset points\",\n",
    "                 ha='center', va='bottom')\n",
    "\n",
    "plt.show()\n"
   ]
  },
  {
   "cell_type": "code",
   "execution_count": 68,
   "id": "e4c8c87a",
   "metadata": {},
   "outputs": [
    {
     "name": "stdout",
     "output_type": "stream",
     "text": [
      "Fitting 5 folds for each of 20 candidates, totalling 100 fits\n"
     ]
    },
    {
     "name": "stderr",
     "output_type": "stream",
     "text": [
      "/Users/pramodkumarnaik/opt/anaconda3/lib/python3.9/site-packages/sklearn/utils/validation.py:993: DataConversionWarning: A column-vector y was passed when a 1d array was expected. Please change the shape of y to (n_samples, ), for example using ravel().\n",
      "  y = column_or_1d(y, warn=True)\n",
      "/Users/pramodkumarnaik/opt/anaconda3/lib/python3.9/site-packages/sklearn/utils/validation.py:993: DataConversionWarning: A column-vector y was passed when a 1d array was expected. Please change the shape of y to (n_samples, ), for example using ravel().\n",
      "  y = column_or_1d(y, warn=True)\n",
      "/Users/pramodkumarnaik/opt/anaconda3/lib/python3.9/site-packages/sklearn/utils/validation.py:993: DataConversionWarning: A column-vector y was passed when a 1d array was expected. Please change the shape of y to (n_samples, ), for example using ravel().\n",
      "  y = column_or_1d(y, warn=True)\n",
      "/Users/pramodkumarnaik/opt/anaconda3/lib/python3.9/site-packages/sklearn/utils/validation.py:993: DataConversionWarning: A column-vector y was passed when a 1d array was expected. Please change the shape of y to (n_samples, ), for example using ravel().\n",
      "  y = column_or_1d(y, warn=True)\n",
      "/Users/pramodkumarnaik/opt/anaconda3/lib/python3.9/site-packages/sklearn/utils/validation.py:993: DataConversionWarning: A column-vector y was passed when a 1d array was expected. Please change the shape of y to (n_samples, ), for example using ravel().\n",
      "  y = column_or_1d(y, warn=True)\n",
      "/Users/pramodkumarnaik/opt/anaconda3/lib/python3.9/site-packages/sklearn/utils/validation.py:993: DataConversionWarning: A column-vector y was passed when a 1d array was expected. Please change the shape of y to (n_samples, ), for example using ravel().\n",
      "  y = column_or_1d(y, warn=True)\n",
      "/Users/pramodkumarnaik/opt/anaconda3/lib/python3.9/site-packages/sklearn/utils/validation.py:993: DataConversionWarning: A column-vector y was passed when a 1d array was expected. Please change the shape of y to (n_samples, ), for example using ravel().\n",
      "  y = column_or_1d(y, warn=True)\n",
      "/Users/pramodkumarnaik/opt/anaconda3/lib/python3.9/site-packages/sklearn/utils/validation.py:993: DataConversionWarning: A column-vector y was passed when a 1d array was expected. Please change the shape of y to (n_samples, ), for example using ravel().\n",
      "  y = column_or_1d(y, warn=True)\n",
      "/Users/pramodkumarnaik/opt/anaconda3/lib/python3.9/site-packages/sklearn/utils/validation.py:993: DataConversionWarning: A column-vector y was passed when a 1d array was expected. Please change the shape of y to (n_samples, ), for example using ravel().\n",
      "  y = column_or_1d(y, warn=True)\n",
      "/Users/pramodkumarnaik/opt/anaconda3/lib/python3.9/site-packages/sklearn/utils/validation.py:993: DataConversionWarning: A column-vector y was passed when a 1d array was expected. Please change the shape of y to (n_samples, ), for example using ravel().\n",
      "  y = column_or_1d(y, warn=True)\n",
      "/Users/pramodkumarnaik/opt/anaconda3/lib/python3.9/site-packages/sklearn/utils/validation.py:993: DataConversionWarning: A column-vector y was passed when a 1d array was expected. Please change the shape of y to (n_samples, ), for example using ravel().\n",
      "  y = column_or_1d(y, warn=True)\n",
      "/Users/pramodkumarnaik/opt/anaconda3/lib/python3.9/site-packages/sklearn/utils/validation.py:993: DataConversionWarning: A column-vector y was passed when a 1d array was expected. Please change the shape of y to (n_samples, ), for example using ravel().\n",
      "  y = column_or_1d(y, warn=True)\n",
      "/Users/pramodkumarnaik/opt/anaconda3/lib/python3.9/site-packages/sklearn/utils/validation.py:993: DataConversionWarning: A column-vector y was passed when a 1d array was expected. Please change the shape of y to (n_samples, ), for example using ravel().\n",
      "  y = column_or_1d(y, warn=True)\n",
      "/Users/pramodkumarnaik/opt/anaconda3/lib/python3.9/site-packages/sklearn/utils/validation.py:993: DataConversionWarning: A column-vector y was passed when a 1d array was expected. Please change the shape of y to (n_samples, ), for example using ravel().\n",
      "  y = column_or_1d(y, warn=True)\n",
      "/Users/pramodkumarnaik/opt/anaconda3/lib/python3.9/site-packages/sklearn/utils/validation.py:993: DataConversionWarning: A column-vector y was passed when a 1d array was expected. Please change the shape of y to (n_samples, ), for example using ravel().\n",
      "  y = column_or_1d(y, warn=True)\n",
      "/Users/pramodkumarnaik/opt/anaconda3/lib/python3.9/site-packages/sklearn/utils/validation.py:993: DataConversionWarning: A column-vector y was passed when a 1d array was expected. Please change the shape of y to (n_samples, ), for example using ravel().\n",
      "  y = column_or_1d(y, warn=True)\n",
      "/Users/pramodkumarnaik/opt/anaconda3/lib/python3.9/site-packages/sklearn/utils/validation.py:993: DataConversionWarning: A column-vector y was passed when a 1d array was expected. Please change the shape of y to (n_samples, ), for example using ravel().\n",
      "  y = column_or_1d(y, warn=True)\n",
      "/Users/pramodkumarnaik/opt/anaconda3/lib/python3.9/site-packages/sklearn/utils/validation.py:993: DataConversionWarning: A column-vector y was passed when a 1d array was expected. Please change the shape of y to (n_samples, ), for example using ravel().\n",
      "  y = column_or_1d(y, warn=True)\n",
      "/Users/pramodkumarnaik/opt/anaconda3/lib/python3.9/site-packages/sklearn/utils/validation.py:993: DataConversionWarning: A column-vector y was passed when a 1d array was expected. Please change the shape of y to (n_samples, ), for example using ravel().\n",
      "  y = column_or_1d(y, warn=True)\n",
      "/Users/pramodkumarnaik/opt/anaconda3/lib/python3.9/site-packages/sklearn/utils/validation.py:993: DataConversionWarning: A column-vector y was passed when a 1d array was expected. Please change the shape of y to (n_samples, ), for example using ravel().\n",
      "  y = column_or_1d(y, warn=True)\n",
      "/Users/pramodkumarnaik/opt/anaconda3/lib/python3.9/site-packages/sklearn/utils/validation.py:993: DataConversionWarning: A column-vector y was passed when a 1d array was expected. Please change the shape of y to (n_samples, ), for example using ravel().\n",
      "  y = column_or_1d(y, warn=True)\n",
      "/Users/pramodkumarnaik/opt/anaconda3/lib/python3.9/site-packages/sklearn/utils/validation.py:993: DataConversionWarning: A column-vector y was passed when a 1d array was expected. Please change the shape of y to (n_samples, ), for example using ravel().\n",
      "  y = column_or_1d(y, warn=True)\n",
      "/Users/pramodkumarnaik/opt/anaconda3/lib/python3.9/site-packages/sklearn/utils/validation.py:993: DataConversionWarning: A column-vector y was passed when a 1d array was expected. Please change the shape of y to (n_samples, ), for example using ravel().\n",
      "  y = column_or_1d(y, warn=True)\n",
      "/Users/pramodkumarnaik/opt/anaconda3/lib/python3.9/site-packages/sklearn/utils/validation.py:993: DataConversionWarning: A column-vector y was passed when a 1d array was expected. Please change the shape of y to (n_samples, ), for example using ravel().\n",
      "  y = column_or_1d(y, warn=True)\n",
      "/Users/pramodkumarnaik/opt/anaconda3/lib/python3.9/site-packages/sklearn/utils/validation.py:993: DataConversionWarning: A column-vector y was passed when a 1d array was expected. Please change the shape of y to (n_samples, ), for example using ravel().\n",
      "  y = column_or_1d(y, warn=True)\n",
      "/Users/pramodkumarnaik/opt/anaconda3/lib/python3.9/site-packages/sklearn/utils/validation.py:993: DataConversionWarning: A column-vector y was passed when a 1d array was expected. Please change the shape of y to (n_samples, ), for example using ravel().\n",
      "  y = column_or_1d(y, warn=True)\n",
      "/Users/pramodkumarnaik/opt/anaconda3/lib/python3.9/site-packages/sklearn/utils/validation.py:993: DataConversionWarning: A column-vector y was passed when a 1d array was expected. Please change the shape of y to (n_samples, ), for example using ravel().\n",
      "  y = column_or_1d(y, warn=True)\n",
      "/Users/pramodkumarnaik/opt/anaconda3/lib/python3.9/site-packages/sklearn/utils/validation.py:993: DataConversionWarning: A column-vector y was passed when a 1d array was expected. Please change the shape of y to (n_samples, ), for example using ravel().\n",
      "  y = column_or_1d(y, warn=True)\n",
      "/Users/pramodkumarnaik/opt/anaconda3/lib/python3.9/site-packages/sklearn/utils/validation.py:993: DataConversionWarning: A column-vector y was passed when a 1d array was expected. Please change the shape of y to (n_samples, ), for example using ravel().\n",
      "  y = column_or_1d(y, warn=True)\n",
      "/Users/pramodkumarnaik/opt/anaconda3/lib/python3.9/site-packages/sklearn/utils/validation.py:993: DataConversionWarning: A column-vector y was passed when a 1d array was expected. Please change the shape of y to (n_samples, ), for example using ravel().\n",
      "  y = column_or_1d(y, warn=True)\n",
      "/Users/pramodkumarnaik/opt/anaconda3/lib/python3.9/site-packages/sklearn/utils/validation.py:993: DataConversionWarning: A column-vector y was passed when a 1d array was expected. Please change the shape of y to (n_samples, ), for example using ravel().\n",
      "  y = column_or_1d(y, warn=True)\n",
      "/Users/pramodkumarnaik/opt/anaconda3/lib/python3.9/site-packages/sklearn/utils/validation.py:993: DataConversionWarning: A column-vector y was passed when a 1d array was expected. Please change the shape of y to (n_samples, ), for example using ravel().\n",
      "  y = column_or_1d(y, warn=True)\n",
      "/Users/pramodkumarnaik/opt/anaconda3/lib/python3.9/site-packages/sklearn/utils/validation.py:993: DataConversionWarning: A column-vector y was passed when a 1d array was expected. Please change the shape of y to (n_samples, ), for example using ravel().\n",
      "  y = column_or_1d(y, warn=True)\n",
      "/Users/pramodkumarnaik/opt/anaconda3/lib/python3.9/site-packages/sklearn/utils/validation.py:993: DataConversionWarning: A column-vector y was passed when a 1d array was expected. Please change the shape of y to (n_samples, ), for example using ravel().\n",
      "  y = column_or_1d(y, warn=True)\n",
      "/Users/pramodkumarnaik/opt/anaconda3/lib/python3.9/site-packages/sklearn/utils/validation.py:993: DataConversionWarning: A column-vector y was passed when a 1d array was expected. Please change the shape of y to (n_samples, ), for example using ravel().\n",
      "  y = column_or_1d(y, warn=True)\n",
      "/Users/pramodkumarnaik/opt/anaconda3/lib/python3.9/site-packages/sklearn/utils/validation.py:993: DataConversionWarning: A column-vector y was passed when a 1d array was expected. Please change the shape of y to (n_samples, ), for example using ravel().\n",
      "  y = column_or_1d(y, warn=True)\n",
      "/Users/pramodkumarnaik/opt/anaconda3/lib/python3.9/site-packages/sklearn/utils/validation.py:993: DataConversionWarning: A column-vector y was passed when a 1d array was expected. Please change the shape of y to (n_samples, ), for example using ravel().\n",
      "  y = column_or_1d(y, warn=True)\n",
      "/Users/pramodkumarnaik/opt/anaconda3/lib/python3.9/site-packages/sklearn/utils/validation.py:993: DataConversionWarning: A column-vector y was passed when a 1d array was expected. Please change the shape of y to (n_samples, ), for example using ravel().\n",
      "  y = column_or_1d(y, warn=True)\n",
      "/Users/pramodkumarnaik/opt/anaconda3/lib/python3.9/site-packages/sklearn/utils/validation.py:993: DataConversionWarning: A column-vector y was passed when a 1d array was expected. Please change the shape of y to (n_samples, ), for example using ravel().\n",
      "  y = column_or_1d(y, warn=True)\n",
      "/Users/pramodkumarnaik/opt/anaconda3/lib/python3.9/site-packages/sklearn/utils/validation.py:993: DataConversionWarning: A column-vector y was passed when a 1d array was expected. Please change the shape of y to (n_samples, ), for example using ravel().\n",
      "  y = column_or_1d(y, warn=True)\n",
      "/Users/pramodkumarnaik/opt/anaconda3/lib/python3.9/site-packages/sklearn/utils/validation.py:993: DataConversionWarning: A column-vector y was passed when a 1d array was expected. Please change the shape of y to (n_samples, ), for example using ravel().\n",
      "  y = column_or_1d(y, warn=True)\n",
      "/Users/pramodkumarnaik/opt/anaconda3/lib/python3.9/site-packages/sklearn/utils/validation.py:993: DataConversionWarning: A column-vector y was passed when a 1d array was expected. Please change the shape of y to (n_samples, ), for example using ravel().\n",
      "  y = column_or_1d(y, warn=True)\n",
      "/Users/pramodkumarnaik/opt/anaconda3/lib/python3.9/site-packages/sklearn/utils/validation.py:993: DataConversionWarning: A column-vector y was passed when a 1d array was expected. Please change the shape of y to (n_samples, ), for example using ravel().\n",
      "  y = column_or_1d(y, warn=True)\n",
      "/Users/pramodkumarnaik/opt/anaconda3/lib/python3.9/site-packages/sklearn/utils/validation.py:993: DataConversionWarning: A column-vector y was passed when a 1d array was expected. Please change the shape of y to (n_samples, ), for example using ravel().\n",
      "  y = column_or_1d(y, warn=True)\n",
      "/Users/pramodkumarnaik/opt/anaconda3/lib/python3.9/site-packages/sklearn/utils/validation.py:993: DataConversionWarning: A column-vector y was passed when a 1d array was expected. Please change the shape of y to (n_samples, ), for example using ravel().\n",
      "  y = column_or_1d(y, warn=True)\n",
      "/Users/pramodkumarnaik/opt/anaconda3/lib/python3.9/site-packages/sklearn/utils/validation.py:993: DataConversionWarning: A column-vector y was passed when a 1d array was expected. Please change the shape of y to (n_samples, ), for example using ravel().\n",
      "  y = column_or_1d(y, warn=True)\n",
      "/Users/pramodkumarnaik/opt/anaconda3/lib/python3.9/site-packages/sklearn/utils/validation.py:993: DataConversionWarning: A column-vector y was passed when a 1d array was expected. Please change the shape of y to (n_samples, ), for example using ravel().\n",
      "  y = column_or_1d(y, warn=True)\n",
      "/Users/pramodkumarnaik/opt/anaconda3/lib/python3.9/site-packages/sklearn/utils/validation.py:993: DataConversionWarning: A column-vector y was passed when a 1d array was expected. Please change the shape of y to (n_samples, ), for example using ravel().\n",
      "  y = column_or_1d(y, warn=True)\n",
      "/Users/pramodkumarnaik/opt/anaconda3/lib/python3.9/site-packages/sklearn/utils/validation.py:993: DataConversionWarning: A column-vector y was passed when a 1d array was expected. Please change the shape of y to (n_samples, ), for example using ravel().\n",
      "  y = column_or_1d(y, warn=True)\n",
      "/Users/pramodkumarnaik/opt/anaconda3/lib/python3.9/site-packages/sklearn/utils/validation.py:993: DataConversionWarning: A column-vector y was passed when a 1d array was expected. Please change the shape of y to (n_samples, ), for example using ravel().\n",
      "  y = column_or_1d(y, warn=True)\n",
      "/Users/pramodkumarnaik/opt/anaconda3/lib/python3.9/site-packages/sklearn/utils/validation.py:993: DataConversionWarning: A column-vector y was passed when a 1d array was expected. Please change the shape of y to (n_samples, ), for example using ravel().\n",
      "  y = column_or_1d(y, warn=True)\n",
      "/Users/pramodkumarnaik/opt/anaconda3/lib/python3.9/site-packages/sklearn/utils/validation.py:993: DataConversionWarning: A column-vector y was passed when a 1d array was expected. Please change the shape of y to (n_samples, ), for example using ravel().\n",
      "  y = column_or_1d(y, warn=True)\n",
      "/Users/pramodkumarnaik/opt/anaconda3/lib/python3.9/site-packages/sklearn/utils/validation.py:993: DataConversionWarning: A column-vector y was passed when a 1d array was expected. Please change the shape of y to (n_samples, ), for example using ravel().\n",
      "  y = column_or_1d(y, warn=True)\n",
      "/Users/pramodkumarnaik/opt/anaconda3/lib/python3.9/site-packages/sklearn/utils/validation.py:993: DataConversionWarning: A column-vector y was passed when a 1d array was expected. Please change the shape of y to (n_samples, ), for example using ravel().\n",
      "  y = column_or_1d(y, warn=True)\n",
      "/Users/pramodkumarnaik/opt/anaconda3/lib/python3.9/site-packages/sklearn/utils/validation.py:993: DataConversionWarning: A column-vector y was passed when a 1d array was expected. Please change the shape of y to (n_samples, ), for example using ravel().\n",
      "  y = column_or_1d(y, warn=True)\n",
      "/Users/pramodkumarnaik/opt/anaconda3/lib/python3.9/site-packages/sklearn/utils/validation.py:993: DataConversionWarning: A column-vector y was passed when a 1d array was expected. Please change the shape of y to (n_samples, ), for example using ravel().\n",
      "  y = column_or_1d(y, warn=True)\n",
      "/Users/pramodkumarnaik/opt/anaconda3/lib/python3.9/site-packages/sklearn/utils/validation.py:993: DataConversionWarning: A column-vector y was passed when a 1d array was expected. Please change the shape of y to (n_samples, ), for example using ravel().\n",
      "  y = column_or_1d(y, warn=True)\n",
      "/Users/pramodkumarnaik/opt/anaconda3/lib/python3.9/site-packages/sklearn/utils/validation.py:993: DataConversionWarning: A column-vector y was passed when a 1d array was expected. Please change the shape of y to (n_samples, ), for example using ravel().\n",
      "  y = column_or_1d(y, warn=True)\n",
      "/Users/pramodkumarnaik/opt/anaconda3/lib/python3.9/site-packages/sklearn/utils/validation.py:993: DataConversionWarning: A column-vector y was passed when a 1d array was expected. Please change the shape of y to (n_samples, ), for example using ravel().\n",
      "  y = column_or_1d(y, warn=True)\n",
      "/Users/pramodkumarnaik/opt/anaconda3/lib/python3.9/site-packages/sklearn/utils/validation.py:993: DataConversionWarning: A column-vector y was passed when a 1d array was expected. Please change the shape of y to (n_samples, ), for example using ravel().\n",
      "  y = column_or_1d(y, warn=True)\n",
      "/Users/pramodkumarnaik/opt/anaconda3/lib/python3.9/site-packages/sklearn/utils/validation.py:993: DataConversionWarning: A column-vector y was passed when a 1d array was expected. Please change the shape of y to (n_samples, ), for example using ravel().\n",
      "  y = column_or_1d(y, warn=True)\n",
      "/Users/pramodkumarnaik/opt/anaconda3/lib/python3.9/site-packages/sklearn/utils/validation.py:993: DataConversionWarning: A column-vector y was passed when a 1d array was expected. Please change the shape of y to (n_samples, ), for example using ravel().\n",
      "  y = column_or_1d(y, warn=True)\n",
      "/Users/pramodkumarnaik/opt/anaconda3/lib/python3.9/site-packages/sklearn/utils/validation.py:993: DataConversionWarning: A column-vector y was passed when a 1d array was expected. Please change the shape of y to (n_samples, ), for example using ravel().\n",
      "  y = column_or_1d(y, warn=True)\n",
      "/Users/pramodkumarnaik/opt/anaconda3/lib/python3.9/site-packages/sklearn/utils/validation.py:993: DataConversionWarning: A column-vector y was passed when a 1d array was expected. Please change the shape of y to (n_samples, ), for example using ravel().\n",
      "  y = column_or_1d(y, warn=True)\n",
      "/Users/pramodkumarnaik/opt/anaconda3/lib/python3.9/site-packages/sklearn/utils/validation.py:993: DataConversionWarning: A column-vector y was passed when a 1d array was expected. Please change the shape of y to (n_samples, ), for example using ravel().\n",
      "  y = column_or_1d(y, warn=True)\n",
      "/Users/pramodkumarnaik/opt/anaconda3/lib/python3.9/site-packages/sklearn/utils/validation.py:993: DataConversionWarning: A column-vector y was passed when a 1d array was expected. Please change the shape of y to (n_samples, ), for example using ravel().\n",
      "  y = column_or_1d(y, warn=True)\n",
      "/Users/pramodkumarnaik/opt/anaconda3/lib/python3.9/site-packages/sklearn/utils/validation.py:993: DataConversionWarning: A column-vector y was passed when a 1d array was expected. Please change the shape of y to (n_samples, ), for example using ravel().\n",
      "  y = column_or_1d(y, warn=True)\n",
      "/Users/pramodkumarnaik/opt/anaconda3/lib/python3.9/site-packages/sklearn/utils/validation.py:993: DataConversionWarning: A column-vector y was passed when a 1d array was expected. Please change the shape of y to (n_samples, ), for example using ravel().\n",
      "  y = column_or_1d(y, warn=True)\n",
      "/Users/pramodkumarnaik/opt/anaconda3/lib/python3.9/site-packages/sklearn/utils/validation.py:993: DataConversionWarning: A column-vector y was passed when a 1d array was expected. Please change the shape of y to (n_samples, ), for example using ravel().\n",
      "  y = column_or_1d(y, warn=True)\n",
      "/Users/pramodkumarnaik/opt/anaconda3/lib/python3.9/site-packages/sklearn/utils/validation.py:993: DataConversionWarning: A column-vector y was passed when a 1d array was expected. Please change the shape of y to (n_samples, ), for example using ravel().\n",
      "  y = column_or_1d(y, warn=True)\n",
      "/Users/pramodkumarnaik/opt/anaconda3/lib/python3.9/site-packages/sklearn/utils/validation.py:993: DataConversionWarning: A column-vector y was passed when a 1d array was expected. Please change the shape of y to (n_samples, ), for example using ravel().\n",
      "  y = column_or_1d(y, warn=True)\n",
      "/Users/pramodkumarnaik/opt/anaconda3/lib/python3.9/site-packages/sklearn/utils/validation.py:993: DataConversionWarning: A column-vector y was passed when a 1d array was expected. Please change the shape of y to (n_samples, ), for example using ravel().\n",
      "  y = column_or_1d(y, warn=True)\n",
      "/Users/pramodkumarnaik/opt/anaconda3/lib/python3.9/site-packages/sklearn/utils/validation.py:993: DataConversionWarning: A column-vector y was passed when a 1d array was expected. Please change the shape of y to (n_samples, ), for example using ravel().\n",
      "  y = column_or_1d(y, warn=True)\n",
      "/Users/pramodkumarnaik/opt/anaconda3/lib/python3.9/site-packages/sklearn/utils/validation.py:993: DataConversionWarning: A column-vector y was passed when a 1d array was expected. Please change the shape of y to (n_samples, ), for example using ravel().\n",
      "  y = column_or_1d(y, warn=True)\n",
      "/Users/pramodkumarnaik/opt/anaconda3/lib/python3.9/site-packages/sklearn/utils/validation.py:993: DataConversionWarning: A column-vector y was passed when a 1d array was expected. Please change the shape of y to (n_samples, ), for example using ravel().\n",
      "  y = column_or_1d(y, warn=True)\n",
      "/Users/pramodkumarnaik/opt/anaconda3/lib/python3.9/site-packages/sklearn/utils/validation.py:993: DataConversionWarning: A column-vector y was passed when a 1d array was expected. Please change the shape of y to (n_samples, ), for example using ravel().\n",
      "  y = column_or_1d(y, warn=True)\n",
      "/Users/pramodkumarnaik/opt/anaconda3/lib/python3.9/site-packages/sklearn/utils/validation.py:993: DataConversionWarning: A column-vector y was passed when a 1d array was expected. Please change the shape of y to (n_samples, ), for example using ravel().\n",
      "  y = column_or_1d(y, warn=True)\n",
      "/Users/pramodkumarnaik/opt/anaconda3/lib/python3.9/site-packages/sklearn/utils/validation.py:993: DataConversionWarning: A column-vector y was passed when a 1d array was expected. Please change the shape of y to (n_samples, ), for example using ravel().\n",
      "  y = column_or_1d(y, warn=True)\n",
      "/Users/pramodkumarnaik/opt/anaconda3/lib/python3.9/site-packages/sklearn/utils/validation.py:993: DataConversionWarning: A column-vector y was passed when a 1d array was expected. Please change the shape of y to (n_samples, ), for example using ravel().\n",
      "  y = column_or_1d(y, warn=True)\n",
      "/Users/pramodkumarnaik/opt/anaconda3/lib/python3.9/site-packages/sklearn/utils/validation.py:993: DataConversionWarning: A column-vector y was passed when a 1d array was expected. Please change the shape of y to (n_samples, ), for example using ravel().\n",
      "  y = column_or_1d(y, warn=True)\n",
      "/Users/pramodkumarnaik/opt/anaconda3/lib/python3.9/site-packages/sklearn/utils/validation.py:993: DataConversionWarning: A column-vector y was passed when a 1d array was expected. Please change the shape of y to (n_samples, ), for example using ravel().\n",
      "  y = column_or_1d(y, warn=True)\n",
      "/Users/pramodkumarnaik/opt/anaconda3/lib/python3.9/site-packages/sklearn/utils/validation.py:993: DataConversionWarning: A column-vector y was passed when a 1d array was expected. Please change the shape of y to (n_samples, ), for example using ravel().\n",
      "  y = column_or_1d(y, warn=True)\n",
      "/Users/pramodkumarnaik/opt/anaconda3/lib/python3.9/site-packages/sklearn/utils/validation.py:993: DataConversionWarning: A column-vector y was passed when a 1d array was expected. Please change the shape of y to (n_samples, ), for example using ravel().\n",
      "  y = column_or_1d(y, warn=True)\n",
      "/Users/pramodkumarnaik/opt/anaconda3/lib/python3.9/site-packages/sklearn/utils/validation.py:993: DataConversionWarning: A column-vector y was passed when a 1d array was expected. Please change the shape of y to (n_samples, ), for example using ravel().\n",
      "  y = column_or_1d(y, warn=True)\n",
      "/Users/pramodkumarnaik/opt/anaconda3/lib/python3.9/site-packages/sklearn/utils/validation.py:993: DataConversionWarning: A column-vector y was passed when a 1d array was expected. Please change the shape of y to (n_samples, ), for example using ravel().\n",
      "  y = column_or_1d(y, warn=True)\n",
      "/Users/pramodkumarnaik/opt/anaconda3/lib/python3.9/site-packages/sklearn/utils/validation.py:993: DataConversionWarning: A column-vector y was passed when a 1d array was expected. Please change the shape of y to (n_samples, ), for example using ravel().\n",
      "  y = column_or_1d(y, warn=True)\n",
      "/Users/pramodkumarnaik/opt/anaconda3/lib/python3.9/site-packages/sklearn/utils/validation.py:993: DataConversionWarning: A column-vector y was passed when a 1d array was expected. Please change the shape of y to (n_samples, ), for example using ravel().\n",
      "  y = column_or_1d(y, warn=True)\n",
      "/Users/pramodkumarnaik/opt/anaconda3/lib/python3.9/site-packages/sklearn/utils/validation.py:993: DataConversionWarning: A column-vector y was passed when a 1d array was expected. Please change the shape of y to (n_samples, ), for example using ravel().\n",
      "  y = column_or_1d(y, warn=True)\n",
      "/Users/pramodkumarnaik/opt/anaconda3/lib/python3.9/site-packages/sklearn/utils/validation.py:993: DataConversionWarning: A column-vector y was passed when a 1d array was expected. Please change the shape of y to (n_samples, ), for example using ravel().\n",
      "  y = column_or_1d(y, warn=True)\n",
      "/Users/pramodkumarnaik/opt/anaconda3/lib/python3.9/site-packages/sklearn/utils/validation.py:993: DataConversionWarning: A column-vector y was passed when a 1d array was expected. Please change the shape of y to (n_samples, ), for example using ravel().\n",
      "  y = column_or_1d(y, warn=True)\n",
      "/Users/pramodkumarnaik/opt/anaconda3/lib/python3.9/site-packages/sklearn/utils/validation.py:993: DataConversionWarning: A column-vector y was passed when a 1d array was expected. Please change the shape of y to (n_samples, ), for example using ravel().\n",
      "  y = column_or_1d(y, warn=True)\n",
      "/Users/pramodkumarnaik/opt/anaconda3/lib/python3.9/site-packages/sklearn/utils/validation.py:993: DataConversionWarning: A column-vector y was passed when a 1d array was expected. Please change the shape of y to (n_samples, ), for example using ravel().\n",
      "  y = column_or_1d(y, warn=True)\n",
      "/Users/pramodkumarnaik/opt/anaconda3/lib/python3.9/site-packages/sklearn/utils/validation.py:993: DataConversionWarning: A column-vector y was passed when a 1d array was expected. Please change the shape of y to (n_samples, ), for example using ravel().\n",
      "  y = column_or_1d(y, warn=True)\n",
      "/Users/pramodkumarnaik/opt/anaconda3/lib/python3.9/site-packages/sklearn/utils/validation.py:993: DataConversionWarning: A column-vector y was passed when a 1d array was expected. Please change the shape of y to (n_samples, ), for example using ravel().\n",
      "  y = column_or_1d(y, warn=True)\n",
      "/Users/pramodkumarnaik/opt/anaconda3/lib/python3.9/site-packages/sklearn/utils/validation.py:993: DataConversionWarning: A column-vector y was passed when a 1d array was expected. Please change the shape of y to (n_samples, ), for example using ravel().\n",
      "  y = column_or_1d(y, warn=True)\n",
      "/Users/pramodkumarnaik/opt/anaconda3/lib/python3.9/site-packages/sklearn/utils/validation.py:993: DataConversionWarning: A column-vector y was passed when a 1d array was expected. Please change the shape of y to (n_samples, ), for example using ravel().\n",
      "  y = column_or_1d(y, warn=True)\n",
      "/Users/pramodkumarnaik/opt/anaconda3/lib/python3.9/site-packages/sklearn/utils/validation.py:993: DataConversionWarning: A column-vector y was passed when a 1d array was expected. Please change the shape of y to (n_samples, ), for example using ravel().\n",
      "  y = column_or_1d(y, warn=True)\n",
      "/Users/pramodkumarnaik/opt/anaconda3/lib/python3.9/site-packages/sklearn/utils/validation.py:993: DataConversionWarning: A column-vector y was passed when a 1d array was expected. Please change the shape of y to (n_samples, ), for example using ravel().\n",
      "  y = column_or_1d(y, warn=True)\n",
      "/Users/pramodkumarnaik/opt/anaconda3/lib/python3.9/site-packages/sklearn/utils/validation.py:993: DataConversionWarning: A column-vector y was passed when a 1d array was expected. Please change the shape of y to (n_samples, ), for example using ravel().\n",
      "  y = column_or_1d(y, warn=True)\n",
      "/Users/pramodkumarnaik/opt/anaconda3/lib/python3.9/site-packages/sklearn/utils/validation.py:993: DataConversionWarning: A column-vector y was passed when a 1d array was expected. Please change the shape of y to (n_samples, ), for example using ravel().\n",
      "  y = column_or_1d(y, warn=True)\n"
     ]
    },
    {
     "name": "stdout",
     "output_type": "stream",
     "text": [
      "Best Accuracy Through Grid Search : 0.635\n",
      "Best Parameters : {'alpha': 0.01, 'class_prior': None, 'fit_prior': True}\n",
      "\n"
     ]
    },
    {
     "name": "stderr",
     "output_type": "stream",
     "text": [
      "/Users/pramodkumarnaik/opt/anaconda3/lib/python3.9/site-packages/sklearn/utils/validation.py:993: DataConversionWarning: A column-vector y was passed when a 1d array was expected. Please change the shape of y to (n_samples, ), for example using ravel().\n",
      "  y = column_or_1d(y, warn=True)\n"
     ]
    }
   ],
   "source": [
    "# number of unique classes (used later in \"class_prior parameter\")\n",
    "n_classes = np.unique(y_train_binresampled)\n",
    "\n",
    "# tuning the multinomial NB using the gridsearch\n",
    "params = {'alpha': [0.01, 0.1, 0.5, 1.0, 10.0, ],\n",
    "          'fit_prior': [True, False],\n",
    "          'class_prior': [None, [0.1,]* len(n_classes), ]\n",
    "         }\n",
    "\n",
    "MNNBGRID = GridSearchCV(MultinomialNB(), param_grid=params, n_jobs=-1, cv=5, verbose=5)\n",
    "MNNBGRID.fit(X_train_binresampled, y_train_binresampled)\n",
    "\n",
    "print('Best Accuracy Through Grid Search : {:.3f}'.format(MNNBGRID.best_score_))\n",
    "print('Best Parameters : {}\\n'.format(MNNBGRID.best_params_))"
   ]
  },
  {
   "cell_type": "code",
   "execution_count": 67,
   "id": "0d30b506",
   "metadata": {},
   "outputs": [
    {
     "name": "stdout",
     "output_type": "stream",
     "text": [
      "Accuracy: 0.6347997743936831\n",
      "              precision    recall  f1-score   support\n",
      "\n",
      "           0       0.65      0.58      0.61      1773\n",
      "           1       0.62      0.69      0.65      1773\n",
      "\n",
      "    accuracy                           0.63      3546\n",
      "   macro avg       0.64      0.63      0.63      3546\n",
      "weighted avg       0.64      0.63      0.63      3546\n",
      "\n",
      "Confusion Matrix:\n",
      " [[1023  750]\n",
      " [ 545 1228]]\n"
     ]
    },
    {
     "name": "stderr",
     "output_type": "stream",
     "text": [
      "/Users/pramodkumarnaik/opt/anaconda3/lib/python3.9/site-packages/sklearn/utils/validation.py:993: DataConversionWarning: A column-vector y was passed when a 1d array was expected. Please change the shape of y to (n_samples, ), for example using ravel().\n",
      "  y = column_or_1d(y, warn=True)\n",
      "/Users/pramodkumarnaik/opt/anaconda3/lib/python3.9/site-packages/sklearn/utils/validation.py:993: DataConversionWarning: A column-vector y was passed when a 1d array was expected. Please change the shape of y to (n_samples, ), for example using ravel().\n",
      "  y = column_or_1d(y, warn=True)\n",
      "/Users/pramodkumarnaik/opt/anaconda3/lib/python3.9/site-packages/sklearn/utils/validation.py:993: DataConversionWarning: A column-vector y was passed when a 1d array was expected. Please change the shape of y to (n_samples, ), for example using ravel().\n",
      "  y = column_or_1d(y, warn=True)\n",
      "/Users/pramodkumarnaik/opt/anaconda3/lib/python3.9/site-packages/sklearn/utils/validation.py:993: DataConversionWarning: A column-vector y was passed when a 1d array was expected. Please change the shape of y to (n_samples, ), for example using ravel().\n",
      "  y = column_or_1d(y, warn=True)\n",
      "/Users/pramodkumarnaik/opt/anaconda3/lib/python3.9/site-packages/sklearn/utils/validation.py:993: DataConversionWarning: A column-vector y was passed when a 1d array was expected. Please change the shape of y to (n_samples, ), for example using ravel().\n",
      "  y = column_or_1d(y, warn=True)\n"
     ]
    }
   ],
   "source": [
    "# Split the data into training and testing sets\n",
    "X_train_bin, X_test_bin, y_train_bin, y_test_bin = train_test_split(xtrain_bin, ytrain_bin, test_size=0.2, random_state=42)\n",
    "\n",
    "# Initialize SMOTE to oversample the minority classes\n",
    "smote = SMOTE(random_state=42)\n",
    "\n",
    "# Fit and apply SMOTE to the training data only\n",
    "X_train_binresampled, y_train_binresampled = smote.fit_resample(X_train_bin, y_train_bin)\n",
    "y_train_binresampled = np.array(y_train_binresampled).ravel()\n",
    "\n",
    "# Now, X_train_resampled and y_train_resampled contain the balanced training data\n",
    "# We can proceed to train the machine learning model on this balanced dataset\n",
    "\n",
    "# Create a Multinomial Naïve Bayes classifier\n",
    "nb_classifier = MultinomialNB(alpha= 0.01, class_prior= None, fit_prior= True)\n",
    "\n",
    "# Perform cross-validation and get predictions\n",
    "y_pred_binover = cross_val_predict(nb_classifier, X_train_binresampled, y_train_binresampled, cv=5)\n",
    "\n",
    "# Calculate accuracy\n",
    "accuracy_bin = accuracy_score(y_train_binresampled, y_pred_binover)\n",
    "\n",
    "# Generate a classification report\n",
    "report_bin = classification_report(y_train_binresampled, y_pred_binover)\n",
    "\n",
    "# Create a confusion matrix\n",
    "confusion_bin = confusion_matrix(y_train_binresampled, y_pred_binover)\n",
    "\n",
    "# Print the metrics\n",
    "print(f\"Accuracy: {accuracy_bin}\")\n",
    "print(report_bin)\n",
    "print(\"Confusion Matrix:\\n\", confusion_bin)\n"
   ]
  },
  {
   "cell_type": "code",
   "execution_count": 72,
   "id": "e1cf82f6",
   "metadata": {},
   "outputs": [
    {
     "data": {
      "image/png": "[encoded data removed]",
      "text/plain": [
       "<Figure size 432x288 with 1 Axes>"
      ]
     },
     "metadata": {
      "needs_background": "light"
     },
     "output_type": "display_data"
    },
    {
     "name": "stdout",
     "output_type": "stream",
     "text": [
      "[CV 4/5] END alpha=0.01, class_prior=None, fit_prior=True;, score=0.638 total time=   0.2s\n",
      "[CV 5/5] END alpha=0.01, class_prior=[0.1, 0.1], fit_prior=True;, score=0.632 total time=   0.1s\n",
      "[CV 2/5] END alpha=0.1, class_prior=None, fit_prior=True;, score=0.609 total time=   0.1s\n",
      "[CV 1/5] END alpha=0.1, class_prior=None, fit_prior=False;, score=0.641 total time=   0.1s\n",
      "[CV 5/5] END alpha=0.1, class_prior=[0.1, 0.1], fit_prior=True;, score=0.632 total time=   0.1s\n",
      "[CV 2/5] END alpha=0.5, class_prior=None, fit_prior=True;, score=0.609 total time=   0.1s\n",
      "[CV 5/5] END alpha=0.5, class_prior=None, fit_prior=False;, score=0.632 total time=   0.1s\n",
      "[CV 3/5] END alpha=0.5, class_prior=[0.1, 0.1], fit_prior=False;, score=0.654 total time=   0.1s\n",
      "[CV 5/5] END alpha=1.0, class_prior=None, fit_prior=True;, score=0.632 total time=   0.1s\n",
      "[CV 3/5] END alpha=1.0, class_prior=[0.1, 0.1], fit_prior=True;, score=0.654 total time=   0.1s\n",
      "[CV 5/5] END alpha=1.0, class_prior=[0.1, 0.1], fit_prior=False;, score=0.632 total time=   0.1s\n",
      "[CV 4/5] END alpha=10.0, class_prior=None, fit_prior=False;, score=0.638 total time=   0.1s\n",
      "[CV 1/5] END alpha=10.0, class_prior=[0.1, 0.1], fit_prior=False;, score=0.641 total time=   0.1s\n",
      "[CV 3/5] END alpha=0.01, class_prior=None, fit_prior=True;, score=0.654 total time=   0.2s\n",
      "[CV 4/5] END alpha=0.01, class_prior=None, fit_prior=False;, score=0.638 total time=   0.1s\n",
      "[CV 1/5] END alpha=0.1, class_prior=None, fit_prior=True;, score=0.641 total time=   0.1s\n",
      "[CV 5/5] END alpha=0.1, class_prior=None, fit_prior=False;, score=0.632 total time=   0.1s\n",
      "[CV 3/5] END alpha=0.1, class_prior=[0.1, 0.1], fit_prior=False;, score=0.654 total time=   0.1s\n",
      "[CV 1/5] END alpha=0.5, class_prior=None, fit_prior=False;, score=0.641 total time=   0.1s\n",
      "[CV 4/5] END alpha=0.5, class_prior=[0.1, 0.1], fit_prior=True;, score=0.638 total time=   0.1s\n",
      "[CV 2/5] END alpha=1.0, class_prior=None, fit_prior=True;, score=0.609 total time=   0.1s\n",
      "[CV 4/5] END alpha=1.0, class_prior=None, fit_prior=False;, score=0.638 total time=   0.1s\n",
      "[CV 2/5] END alpha=1.0, class_prior=[0.1, 0.1], fit_prior=False;, score=0.609 total time=   0.1s\n",
      "[CV 1/5] END alpha=10.0, class_prior=None, fit_prior=False;, score=0.641 total time=   0.1s\n",
      "[CV 4/5] END alpha=10.0, class_prior=[0.1, 0.1], fit_prior=True;, score=0.638 total time=   0.1s\n",
      "[CV 1/5] END alpha=0.01, class_prior=None, fit_prior=False;, score=0.641 total time=   0.2s\n",
      "[CV 4/5] END alpha=0.01, class_prior=None, fit_prior=False;, score=0.638 total time=   0.2s\n",
      "[CV 1/5] END alpha=0.1, class_prior=None, fit_prior=True;, score=0.641 total time=   0.1s\n",
      "[CV 5/5] END alpha=0.1, class_prior=None, fit_prior=False;, score=0.632 total time=   0.1s\n",
      "[CV 2/5] END alpha=0.1, class_prior=[0.1, 0.1], fit_prior=False;, score=0.609 total time=   0.1s\n",
      "[CV 1/5] END alpha=0.5, class_prior=None, fit_prior=False;, score=0.641 total time=   0.1s\n",
      "[CV 5/5] END alpha=0.5, class_prior=[0.1, 0.1], fit_prior=True;, score=0.632 total time=   0.1s\n",
      "[CV 2/5] END alpha=1.0, class_prior=None, fit_prior=True;, score=0.609 total time=   0.1s\n",
      "[CV 5/5] END alpha=1.0, class_prior=None, fit_prior=False;, score=0.632 total time=   0.1s\n",
      "[CV 3/5] END alpha=1.0, class_prior=[0.1, 0.1], fit_prior=False;, score=0.654 total time=   0.1s\n",
      "[CV 5/5] END alpha=10.0, class_prior=None, fit_prior=True;, score=0.632 total time=   0.1s\n",
      "[CV 3/5] END alpha=10.0, class_prior=[0.1, 0.1], fit_prior=True;, score=0.654 total time=   0.1s\n",
      "[CV 1/5] END alpha=0.01, class_prior=None, fit_prior=True;, score=0.641 total time=   0.2s\n",
      "[CV 5/5] END alpha=0.01, class_prior=None, fit_prior=False;, score=0.632 total time=   0.1s\n",
      "[CV 5/5] END alpha=0.01, class_prior=[0.1, 0.1], fit_prior=False;, score=0.632 total time=   0.1s\n",
      "[CV 3/5] END alpha=0.1, class_prior=None, fit_prior=False;, score=0.654 total time=   0.1s\n",
      "[CV 1/5] END alpha=0.1, class_prior=[0.1, 0.1], fit_prior=False;, score=0.641 total time=   0.1s\n",
      "[CV 3/5] END alpha=0.5, class_prior=None, fit_prior=True;, score=0.654 total time=   0.1s\n",
      "[CV 1/5] END alpha=0.5, class_prior=[0.1, 0.1], fit_prior=True;, score=0.641 total time=   0.1s\n",
      "[CV 5/5] END alpha=0.5, class_prior=[0.1, 0.1], fit_prior=False;, score=0.632 total time=   0.1s\n",
      "[CV 1/5] END alpha=1.0, class_prior=None, fit_prior=False;, score=0.641 total time=   0.1s\n",
      "[CV 3/5] END alpha=1.0, class_prior=[0.1, 0.1], fit_prior=True;, score=0.654 total time=   0.1s\n",
      "[CV 4/5] END alpha=1.0, class_prior=[0.1, 0.1], fit_prior=False;, score=0.638 total time=   0.1s\n",
      "[CV 2/5] END alpha=10.0, class_prior=None, fit_prior=False;, score=0.609 total time=   0.1s\n",
      "[CV 5/5] END alpha=10.0, class_prior=[0.1, 0.1], fit_prior=True;, score=0.632 total time=   0.1s\n",
      "[CV 5/5] END alpha=0.01, class_prior=None, fit_prior=True;, score=0.632 total time=   0.3s\n",
      "[CV 1/5] END alpha=0.01, class_prior=[0.1, 0.1], fit_prior=False;, score=0.641 total time=   0.2s\n",
      "[CV 3/5] END alpha=0.1, class_prior=None, fit_prior=True;, score=0.654 total time=   0.1s\n",
      "[CV 1/5] END alpha=0.1, class_prior=[0.1, 0.1], fit_prior=True;, score=0.641 total time=   0.1s\n",
      "[CV 4/5] END alpha=0.1, class_prior=[0.1, 0.1], fit_prior=False;, score=0.638 total time=   0.1s\n",
      "[CV 3/5] END alpha=0.5, class_prior=None, fit_prior=False;, score=0.654 total time=   0.1s\n",
      "[CV 1/5] END alpha=0.5, class_prior=[0.1, 0.1], fit_prior=False;, score=0.641 total time=   0.1s\n",
      "[CV 3/5] END alpha=1.0, class_prior=None, fit_prior=True;, score=0.654 total time=   0.1s\n",
      "[CV 1/5] END alpha=1.0, class_prior=[0.1, 0.1], fit_prior=True;, score=0.641 total time=   0.1s\n",
      "[CV 1/5] END alpha=10.0, class_prior=None, fit_prior=True;, score=0.641 total time=   0.1s\n",
      "[CV 3/5] END alpha=10.0, class_prior=None, fit_prior=False;, score=0.654 total time=   0.1s\n",
      "[CV 2/5] END alpha=10.0, class_prior=[0.1, 0.1], fit_prior=False;, score=0.609 total time=   0.1s\n",
      "[CV 2/5] END alpha=0.01, class_prior=None, fit_prior=True;, score=0.609 total time=   0.2s\n",
      "[CV 2/5] END alpha=0.01, class_prior=[0.1, 0.1], fit_prior=True;, score=0.609 total time=   0.1s\n",
      "[CV 2/5] END alpha=0.01, class_prior=[0.1, 0.1], fit_prior=False;, score=0.609 total time=   0.1s\n",
      "[CV 4/5] END alpha=0.1, class_prior=None, fit_prior=True;, score=0.638 total time=   0.1s\n",
      "[CV 2/5] END alpha=0.1, class_prior=[0.1, 0.1], fit_prior=True;, score=0.609 total time=   0.1s\n",
      "[CV 4/5] END alpha=0.1, class_prior=[0.1, 0.1], fit_prior=False;, score=0.638 total time=   0.1s\n",
      "[CV 5/5] END alpha=0.5, class_prior=None, fit_prior=False;, score=0.632 total time=   0.1s\n",
      "[CV 1/5] END alpha=0.5, class_prior=[0.1, 0.1], fit_prior=False;, score=0.641 total time=   0.2s\n",
      "[CV 3/5] END alpha=1.0, class_prior=None, fit_prior=False;, score=0.654 total time=   0.1s\n",
      "[CV 4/5] END alpha=1.0, class_prior=[0.1, 0.1], fit_prior=True;, score=0.638 total time=   0.1s\n",
      "[CV 1/5] END alpha=10.0, class_prior=None, fit_prior=True;, score=0.641 total time=   0.1s\n",
      "[CV 4/5] END alpha=10.0, class_prior=None, fit_prior=False;, score=0.638 total time=   0.1s\n",
      "[CV 2/5] END alpha=10.0, class_prior=[0.1, 0.1], fit_prior=False;, score=0.609 total time=   0.1s\n",
      "[CV 2/5] END alpha=0.01, class_prior=None, fit_prior=True;, score=0.609 total time=   0.2s\n",
      "[CV 2/5] END alpha=0.01, class_prior=[0.1, 0.1], fit_prior=True;, score=0.609 total time=   0.1s\n",
      "[CV 3/5] END alpha=0.01, class_prior=[0.1, 0.1], fit_prior=False;, score=0.654 total time=   0.1s\n",
      "[CV 5/5] END alpha=0.1, class_prior=None, fit_prior=True;, score=0.632 total time=   0.1s\n",
      "[CV 3/5] END alpha=0.1, class_prior=[0.1, 0.1], fit_prior=True;, score=0.654 total time=   0.1s\n",
      "[CV 5/5] END alpha=0.1, class_prior=[0.1, 0.1], fit_prior=False;, score=0.632 total time=   0.1s\n",
      "[CV 2/5] END alpha=0.5, class_prior=None, fit_prior=False;, score=0.609 total time=   0.1s\n",
      "[CV 4/5] END alpha=0.5, class_prior=[0.1, 0.1], fit_prior=True;, score=0.638 total time=   0.2s\n",
      "[CV 4/5] END alpha=1.0, class_prior=None, fit_prior=False;, score=0.638 total time=   0.1s\n",
      "[CV 2/5] END alpha=1.0, class_prior=[0.1, 0.1], fit_prior=False;, score=0.609 total time=   0.1s\n",
      "[CV 1/5] END alpha=10.0, class_prior=None, fit_prior=False;, score=0.641 total time=   0.1s\n",
      "[CV 4/5] END alpha=10.0, class_prior=[0.1, 0.1], fit_prior=True;, score=0.638 total time=   0.1s\n",
      "[CV 5/5] END alpha=0.01, class_prior=None, fit_prior=True;, score=0.632 total time=   0.2s\n",
      "[CV 3/5] END alpha=0.01, class_prior=[0.1, 0.1], fit_prior=True;, score=0.654 total time=   0.1s\n",
      "[CV 4/5] END alpha=0.01, class_prior=[0.1, 0.1], fit_prior=False;, score=0.638 total time=   0.1s\n",
      "[CV 2/5] END alpha=0.1, class_prior=None, fit_prior=False;, score=0.609 total time=   0.1s\n",
      "[CV 4/5] END alpha=0.1, class_prior=[0.1, 0.1], fit_prior=True;, score=0.638 total time=   0.1s\n",
      "[CV 1/5] END alpha=0.5, class_prior=None, fit_prior=True;, score=0.641 total time=   0.1s\n",
      "[CV 3/5] END alpha=0.5, class_prior=None, fit_prior=False;, score=0.654 total time=   0.1s\n",
      "[CV 5/5] END alpha=0.5, class_prior=[0.1, 0.1], fit_prior=True;, score=0.632 total time=   0.1s\n",
      "[CV 3/5] END alpha=1.0, class_prior=None, fit_prior=True;, score=0.654 total time=   0.1s\n",
      "[CV 2/5] END alpha=1.0, class_prior=[0.1, 0.1], fit_prior=True;, score=0.609 total time=   0.1s\n",
      "[CV 2/5] END alpha=10.0, class_prior=None, fit_prior=True;, score=0.609 total time=   0.1s\n",
      "[CV 5/5] END alpha=10.0, class_prior=None, fit_prior=False;, score=0.632 total time=   0.1s\n",
      "[CV 3/5] END alpha=10.0, class_prior=[0.1, 0.1], fit_prior=False;, score=0.654 total time=   0.1s\n",
      "[CV 3/5] END alpha=0.01, class_prior=None, fit_prior=False;, score=0.654 total time=   0.2s\n",
      "[CV 4/5] END alpha=0.01, class_prior=[0.1, 0.1], fit_prior=True;, score=0.638 total time=   0.1s\n",
      "[CV 4/5] END alpha=0.01, class_prior=[0.1, 0.1], fit_prior=False;, score=0.638 total time=   0.1s\n",
      "[CV 3/5] END alpha=0.1, class_prior=None, fit_prior=False;, score=0.654 total time=   0.1s\n",
      "[CV 3/5] END alpha=0.1, class_prior=[0.1, 0.1], fit_prior=False;, score=0.654 total time=   0.1s\n",
      "[CV 5/5] END alpha=0.5, class_prior=None, fit_prior=True;, score=0.632 total time=   0.1s\n",
      "[CV 2/5] END alpha=0.5, class_prior=[0.1, 0.1], fit_prior=True;, score=0.609 total time=   0.1s\n",
      "[CV 4/5] END alpha=0.5, class_prior=[0.1, 0.1], fit_prior=False;, score=0.638 total time=   0.1s\n",
      "[CV 1/5] END alpha=1.0, class_prior=None, fit_prior=False;, score=0.641 total time=   0.1s\n",
      "[CV 4/5] END alpha=1.0, class_prior=[0.1, 0.1], fit_prior=True;, score=0.638 total time=   0.1s\n",
      "[CV 2/5] END alpha=10.0, class_prior=None, fit_prior=True;, score=0.609 total time=   0.1s\n",
      "[CV 5/5] END alpha=10.0, class_prior=None, fit_prior=False;, score=0.632 total time=   0.1s\n",
      "[CV 5/5] END alpha=10.0, class_prior=[0.1, 0.1], fit_prior=False;, score=0.632 total time=   0.1s\n",
      "[CV 1/5] END alpha=0.01, class_prior=None, fit_prior=False;, score=0.641 total time=   0.2s\n",
      "[CV 4/5] END alpha=0.01, class_prior=[0.1, 0.1], fit_prior=True;, score=0.638 total time=   0.1s\n",
      "[CV 2/5] END alpha=0.1, class_prior=None, fit_prior=True;, score=0.609 total time=   0.1s\n",
      "[CV 4/5] END alpha=0.1, class_prior=None, fit_prior=False;, score=0.638 total time=   0.1s\n",
      "[CV 2/5] END alpha=0.1, class_prior=[0.1, 0.1], fit_prior=False;, score=0.609 total time=   0.1s\n",
      "[CV 5/5] END alpha=0.5, class_prior=None, fit_prior=True;, score=0.632 total time=   0.1s\n",
      "[CV 3/5] END alpha=0.5, class_prior=[0.1, 0.1], fit_prior=True;, score=0.654 total time=   0.1s\n",
      "[CV 1/5] END alpha=1.0, class_prior=None, fit_prior=True;, score=0.641 total time=   0.1s\n",
      "[CV 5/5] END alpha=1.0, class_prior=None, fit_prior=False;, score=0.632 total time=   0.1s\n",
      "[CV 5/5] END alpha=1.0, class_prior=[0.1, 0.1], fit_prior=False;, score=0.632 total time=   0.1s\n",
      "[CV 3/5] END alpha=10.0, class_prior=None, fit_prior=False;, score=0.654 total time=   0.1s\n",
      "[CV 1/5] END alpha=10.0, class_prior=[0.1, 0.1], fit_prior=False;, score=0.641 total time=   0.1s\n",
      "[CV 2/5] END alpha=0.01, class_prior=None, fit_prior=False;, score=0.609 total time=   0.2s\n",
      "[CV 1/5] END alpha=0.01, class_prior=[0.1, 0.1], fit_prior=True;, score=0.641 total time=   0.1s\n",
      "[CV 5/5] END alpha=0.01, class_prior=[0.1, 0.1], fit_prior=False;, score=0.632 total time=   0.1s\n",
      "[CV 4/5] END alpha=0.1, class_prior=None, fit_prior=False;, score=0.638 total time=   0.1s\n",
      "[CV 1/5] END alpha=0.1, class_prior=[0.1, 0.1], fit_prior=False;, score=0.641 total time=   0.1s\n",
      "[CV 4/5] END alpha=0.5, class_prior=None, fit_prior=True;, score=0.638 total time=   0.1s\n",
      "[CV 3/5] END alpha=0.5, class_prior=[0.1, 0.1], fit_prior=True;, score=0.654 total time=   0.1s\n",
      "[CV 1/5] END alpha=1.0, class_prior=None, fit_prior=True;, score=0.641 total time=   0.1s\n",
      "[CV 3/5] END alpha=1.0, class_prior=None, fit_prior=False;, score=0.654 total time=   0.1s\n",
      "[CV 5/5] END alpha=1.0, class_prior=[0.1, 0.1], fit_prior=True;, score=0.632 total time=   0.1s\n",
      "[CV 3/5] END alpha=10.0, class_prior=None, fit_prior=True;, score=0.654 total time=   0.1s\n",
      "[CV 1/5] END alpha=10.0, class_prior=[0.1, 0.1], fit_prior=True;, score=0.641 total time=   0.1s\n",
      "[CV 3/5] END alpha=10.0, class_prior=[0.1, 0.1], fit_prior=False;, score=0.654 total time=   0.1s\n",
      "[CV 3/5] END alpha=0.01, class_prior=None, fit_prior=False;, score=0.654 total time=   0.2s\n",
      "[CV 1/5] END alpha=0.01, class_prior=[0.1, 0.1], fit_prior=False;, score=0.641 total time=   0.1s\n",
      "[CV 5/5] END alpha=0.1, class_prior=None, fit_prior=True;, score=0.632 total time=   0.1s\n",
      "[CV 3/5] END alpha=0.1, class_prior=[0.1, 0.1], fit_prior=True;, score=0.654 total time=   0.1s\n",
      "[CV 2/5] END alpha=0.5, class_prior=None, fit_prior=True;, score=0.609 total time=   0.1s\n",
      "[CV 2/5] END alpha=0.5, class_prior=[0.1, 0.1], fit_prior=True;, score=0.609 total time=   0.1s\n",
      "[CV 4/5] END alpha=0.5, class_prior=[0.1, 0.1], fit_prior=False;, score=0.638 total time=   0.1s\n",
      "[CV 5/5] END alpha=1.0, class_prior=None, fit_prior=True;, score=0.632 total time=   0.1s\n",
      "[CV 1/5] END alpha=1.0, class_prior=[0.1, 0.1], fit_prior=True;, score=0.641 total time=   0.1s\n",
      "[CV 3/5] END alpha=1.0, class_prior=[0.1, 0.1], fit_prior=False;, score=0.654 total time=   0.1s\n",
      "[CV 5/5] END alpha=10.0, class_prior=None, fit_prior=True;, score=0.632 total time=   0.1s\n",
      "[CV 3/5] END alpha=10.0, class_prior=[0.1, 0.1], fit_prior=True;, score=0.654 total time=   0.1s\n",
      "[CV 3/5] END alpha=0.01, class_prior=None, fit_prior=True;, score=0.654 total time=   0.2s\n",
      "[CV 5/5] END alpha=0.01, class_prior=None, fit_prior=False;, score=0.632 total time=   0.1s\n",
      "[CV 2/5] END alpha=0.01, class_prior=[0.1, 0.1], fit_prior=False;, score=0.609 total time=   0.2s\n",
      "[CV 2/5] END alpha=0.1, class_prior=None, fit_prior=False;, score=0.609 total time=   0.1s\n",
      "[CV 2/5] END alpha=0.1, class_prior=[0.1, 0.1], fit_prior=True;, score=0.609 total time=   0.1s\n",
      "[CV 3/5] END alpha=0.5, class_prior=None, fit_prior=True;, score=0.654 total time=   0.1s\n",
      "[CV 1/5] END alpha=0.5, class_prior=[0.1, 0.1], fit_prior=True;, score=0.641 total time=   0.1s\n",
      "[CV 5/5] END alpha=0.5, class_prior=[0.1, 0.1], fit_prior=False;, score=0.632 total time=   0.1s\n",
      "[CV 2/5] END alpha=1.0, class_prior=None, fit_prior=False;, score=0.609 total time=   0.1s\n",
      "[CV 1/5] END alpha=1.0, class_prior=[0.1, 0.1], fit_prior=False;, score=0.641 total time=   0.1s\n",
      "[CV 4/5] END alpha=10.0, class_prior=None, fit_prior=True;, score=0.638 total time=   0.1s\n",
      "[CV 2/5] END alpha=10.0, class_prior=[0.1, 0.1], fit_prior=True;, score=0.609 total time=   0.1s\n",
      "[CV 4/5] END alpha=10.0, class_prior=[0.1, 0.1], fit_prior=False;, score=0.638 total time=   0.1s\n",
      "[CV 4/5] END alpha=0.01, class_prior=None, fit_prior=True;, score=0.638 total time=   0.2s\n",
      "[CV 1/5] END alpha=0.01, class_prior=[0.1, 0.1], fit_prior=True;, score=0.641 total time=   0.1s\n",
      "[CV 3/5] END alpha=0.01, class_prior=[0.1, 0.1], fit_prior=False;, score=0.654 total time=   0.1s\n",
      "[CV 1/5] END alpha=0.1, class_prior=None, fit_prior=False;, score=0.641 total time=   0.1s\n",
      "[CV 5/5] END alpha=0.1, class_prior=[0.1, 0.1], fit_prior=True;, score=0.632 total time=   0.1s\n",
      "[CV 4/5] END alpha=0.5, class_prior=None, fit_prior=True;, score=0.638 total time=   0.1s\n",
      "[CV 2/5] END alpha=0.5, class_prior=None, fit_prior=False;, score=0.609 total time=   0.1s\n",
      "[CV 2/5] END alpha=0.5, class_prior=[0.1, 0.1], fit_prior=False;, score=0.609 total time=   0.1s\n",
      "[CV 4/5] END alpha=1.0, class_prior=None, fit_prior=True;, score=0.638 total time=   0.2s\n",
      "[CV 5/5] END alpha=1.0, class_prior=[0.1, 0.1], fit_prior=True;, score=0.632 total time=   0.1s\n",
      "[CV 3/5] END alpha=10.0, class_prior=None, fit_prior=True;, score=0.654 total time=   0.1s\n",
      "[CV 1/5] END alpha=10.0, class_prior=[0.1, 0.1], fit_prior=True;, score=0.641 total time=   0.1s\n",
      "[CV 5/5] END alpha=10.0, class_prior=[0.1, 0.1], fit_prior=False;, score=0.632 total time=   0.1s\n",
      "[CV 1/5] END alpha=0.01, class_prior=None, fit_prior=True;, score=0.641 total time=   0.2s\n",
      "[CV 3/5] END alpha=0.01, class_prior=[0.1, 0.1], fit_prior=True;, score=0.654 total time=   0.2s\n",
      "[CV 4/5] END alpha=0.1, class_prior=None, fit_prior=True;, score=0.638 total time=   0.2s\n",
      "[CV 4/5] END alpha=0.1, class_prior=[0.1, 0.1], fit_prior=True;, score=0.638 total time=   0.1s\n",
      "[CV 1/5] END alpha=0.5, class_prior=None, fit_prior=True;, score=0.641 total time=   0.1s\n",
      "[CV 4/5] END alpha=0.5, class_prior=None, fit_prior=False;, score=0.638 total time=   0.1s\n",
      "[CV 2/5] END alpha=0.5, class_prior=[0.1, 0.1], fit_prior=False;, score=0.609 total time=   0.1s\n",
      "[CV 4/5] END alpha=1.0, class_prior=None, fit_prior=True;, score=0.638 total time=   0.1s\n",
      "[CV 2/5] END alpha=1.0, class_prior=[0.1, 0.1], fit_prior=True;, score=0.609 total time=   0.1s\n",
      "[CV 4/5] END alpha=1.0, class_prior=[0.1, 0.1], fit_prior=False;, score=0.638 total time=   0.1s\n",
      "[CV 2/5] END alpha=10.0, class_prior=None, fit_prior=False;, score=0.609 total time=   0.1s\n",
      "[CV 5/5] END alpha=10.0, class_prior=[0.1, 0.1], fit_prior=True;, score=0.632 total time=   0.1s\n",
      "[CV 2/5] END alpha=0.01, class_prior=None, fit_prior=False;, score=0.609 total time=   0.2s\n",
      "[CV 5/5] END alpha=0.01, class_prior=[0.1, 0.1], fit_prior=True;, score=0.632 total time=   0.1s\n",
      "[CV 3/5] END alpha=0.1, class_prior=None, fit_prior=True;, score=0.654 total time=   0.1s\n",
      "[CV 1/5] END alpha=0.1, class_prior=[0.1, 0.1], fit_prior=True;, score=0.641 total time=   0.1s\n",
      "[CV 5/5] END alpha=0.1, class_prior=[0.1, 0.1], fit_prior=False;, score=0.632 total time=   0.1s\n",
      "[CV 4/5] END alpha=0.5, class_prior=None, fit_prior=False;, score=0.638 total time=   0.1s\n",
      "[CV 3/5] END alpha=0.5, class_prior=[0.1, 0.1], fit_prior=False;, score=0.654 total time=   0.1s\n",
      "[CV 2/5] END alpha=1.0, class_prior=None, fit_prior=False;, score=0.609 total time=   0.1s\n",
      "[CV 1/5] END alpha=1.0, class_prior=[0.1, 0.1], fit_prior=False;, score=0.641 total time=   0.1s\n",
      "[CV 4/5] END alpha=10.0, class_prior=None, fit_prior=True;, score=0.638 total time=   0.1s\n",
      "[CV 2/5] END alpha=10.0, class_prior=[0.1, 0.1], fit_prior=True;, score=0.609 total time=   0.1s\n",
      "[CV 4/5] END alpha=10.0, class_prior=[0.1, 0.1], fit_prior=False;, score=0.638 total time=   0.1s\n"
     ]
    }
   ],
   "source": [
    "# printing ROC curve in order to evaluate the performance of a classification model\n",
    "from sklearn.metrics import roc_curve, auc\n",
    "fpr, tpr, thresholds = roc_curve(y_train_binresampled, y_pred_binover)\n",
    "roc_auc = auc(fpr, tpr)\n",
    "plt.figure()\n",
    "plt.plot(fpr, tpr, color='darkorange', lw=1, label='ROC curve (area = %0.2f)' % roc_auc)\n",
    "plt.xlim([0.0, 1.0])\n",
    "plt.ylim([0.0, 1.05])\n",
    "plt.xlabel('False Positive Rate')\n",
    "plt.ylabel('True Positive Rate')\n",
    "plt.title('ROC CURVE')\n",
    "plt.legend(loc=\"lower right\")\n",
    "plt.show()"
   ]
  },
  {
   "cell_type": "markdown",
   "id": "188e2c8e",
   "metadata": {},
   "source": [
    "### 2)BernoulliNB Model"
   ]
  },
  {
   "cell_type": "code",
   "execution_count": 87,
   "id": "46f48be8",
   "metadata": {},
   "outputs": [
    {
     "name": "stdout",
     "output_type": "stream",
     "text": [
      "Fitting 5 folds for each of 80 candidates, totalling 400 fits\n"
     ]
    },
    {
     "name": "stderr",
     "output_type": "stream",
     "text": [
      "/Users/pramodkumarnaik/opt/anaconda3/lib/python3.9/site-packages/sklearn/naive_bayes.py:1183: RuntimeWarning: invalid value encountered in log\n",
      "  neg_prob = np.log(1 - np.exp(self.feature_log_prob_))\n",
      "/Users/pramodkumarnaik/opt/anaconda3/lib/python3.9/site-packages/sklearn/naive_bayes.py:1183: RuntimeWarning: invalid value encountered in log\n",
      "  neg_prob = np.log(1 - np.exp(self.feature_log_prob_))\n",
      "/Users/pramodkumarnaik/opt/anaconda3/lib/python3.9/site-packages/sklearn/naive_bayes.py:1183: RuntimeWarning: invalid value encountered in log\n",
      "  neg_prob = np.log(1 - np.exp(self.feature_log_prob_))\n",
      "/Users/pramodkumarnaik/opt/anaconda3/lib/python3.9/site-packages/sklearn/naive_bayes.py:1183: RuntimeWarning: invalid value encountered in log\n",
      "  neg_prob = np.log(1 - np.exp(self.feature_log_prob_))\n",
      "/Users/pramodkumarnaik/opt/anaconda3/lib/python3.9/site-packages/sklearn/naive_bayes.py:1183: RuntimeWarning: invalid value encountered in log\n",
      "  neg_prob = np.log(1 - np.exp(self.feature_log_prob_))\n",
      "/Users/pramodkumarnaik/opt/anaconda3/lib/python3.9/site-packages/sklearn/naive_bayes.py:1183: RuntimeWarning: invalid value encountered in log\n",
      "  neg_prob = np.log(1 - np.exp(self.feature_log_prob_))\n",
      "/Users/pramodkumarnaik/opt/anaconda3/lib/python3.9/site-packages/sklearn/naive_bayes.py:1183: RuntimeWarning: invalid value encountered in log\n",
      "  neg_prob = np.log(1 - np.exp(self.feature_log_prob_))\n",
      "/Users/pramodkumarnaik/opt/anaconda3/lib/python3.9/site-packages/sklearn/naive_bayes.py:1183: RuntimeWarning: invalid value encountered in log\n",
      "  neg_prob = np.log(1 - np.exp(self.feature_log_prob_))\n",
      "/Users/pramodkumarnaik/opt/anaconda3/lib/python3.9/site-packages/sklearn/naive_bayes.py:1183: RuntimeWarning: invalid value encountered in log\n",
      "  neg_prob = np.log(1 - np.exp(self.feature_log_prob_))\n",
      "/Users/pramodkumarnaik/opt/anaconda3/lib/python3.9/site-packages/sklearn/naive_bayes.py:1183: RuntimeWarning: invalid value encountered in log\n",
      "  neg_prob = np.log(1 - np.exp(self.feature_log_prob_))\n",
      "/Users/pramodkumarnaik/opt/anaconda3/lib/python3.9/site-packages/sklearn/naive_bayes.py:1183: RuntimeWarning: invalid value encountered in log\n",
      "  neg_prob = np.log(1 - np.exp(self.feature_log_prob_))\n",
      "/Users/pramodkumarnaik/opt/anaconda3/lib/python3.9/site-packages/sklearn/naive_bayes.py:1183: RuntimeWarning: invalid value encountered in log\n",
      "  neg_prob = np.log(1 - np.exp(self.feature_log_prob_))\n",
      "/Users/pramodkumarnaik/opt/anaconda3/lib/python3.9/site-packages/sklearn/naive_bayes.py:1183: RuntimeWarning: invalid value encountered in log\n",
      "  neg_prob = np.log(1 - np.exp(self.feature_log_prob_))\n",
      "/Users/pramodkumarnaik/opt/anaconda3/lib/python3.9/site-packages/sklearn/naive_bayes.py:1183: RuntimeWarning: invalid value encountered in log\n",
      "  neg_prob = np.log(1 - np.exp(self.feature_log_prob_))\n",
      "/Users/pramodkumarnaik/opt/anaconda3/lib/python3.9/site-packages/sklearn/naive_bayes.py:1183: RuntimeWarning: invalid value encountered in log\n",
      "  neg_prob = np.log(1 - np.exp(self.feature_log_prob_))\n",
      "/Users/pramodkumarnaik/opt/anaconda3/lib/python3.9/site-packages/sklearn/naive_bayes.py:1183: RuntimeWarning: invalid value encountered in log\n",
      "  neg_prob = np.log(1 - np.exp(self.feature_log_prob_))\n",
      "/Users/pramodkumarnaik/opt/anaconda3/lib/python3.9/site-packages/sklearn/naive_bayes.py:1183: RuntimeWarning: invalid value encountered in log\n",
      "  neg_prob = np.log(1 - np.exp(self.feature_log_prob_))\n",
      "/Users/pramodkumarnaik/opt/anaconda3/lib/python3.9/site-packages/sklearn/naive_bayes.py:1183: RuntimeWarning: invalid value encountered in log\n",
      "  neg_prob = np.log(1 - np.exp(self.feature_log_prob_))\n",
      "/Users/pramodkumarnaik/opt/anaconda3/lib/python3.9/site-packages/sklearn/naive_bayes.py:1183: RuntimeWarning: invalid value encountered in log\n",
      "  neg_prob = np.log(1 - np.exp(self.feature_log_prob_))\n",
      "/Users/pramodkumarnaik/opt/anaconda3/lib/python3.9/site-packages/sklearn/naive_bayes.py:1183: RuntimeWarning: invalid value encountered in log\n",
      "  neg_prob = np.log(1 - np.exp(self.feature_log_prob_))\n",
      "/Users/pramodkumarnaik/opt/anaconda3/lib/python3.9/site-packages/sklearn/naive_bayes.py:1183: RuntimeWarning: invalid value encountered in log\n",
      "  neg_prob = np.log(1 - np.exp(self.feature_log_prob_))\n",
      "/Users/pramodkumarnaik/opt/anaconda3/lib/python3.9/site-packages/sklearn/naive_bayes.py:1183: RuntimeWarning: invalid value encountered in log\n",
      "  neg_prob = np.log(1 - np.exp(self.feature_log_prob_))\n",
      "/Users/pramodkumarnaik/opt/anaconda3/lib/python3.9/site-packages/sklearn/naive_bayes.py:1183: RuntimeWarning: invalid value encountered in log\n",
      "  neg_prob = np.log(1 - np.exp(self.feature_log_prob_))\n",
      "/Users/pramodkumarnaik/opt/anaconda3/lib/python3.9/site-packages/sklearn/naive_bayes.py:1183: RuntimeWarning: invalid value encountered in log\n",
      "  neg_prob = np.log(1 - np.exp(self.feature_log_prob_))\n",
      "/Users/pramodkumarnaik/opt/anaconda3/lib/python3.9/site-packages/sklearn/naive_bayes.py:1183: RuntimeWarning: invalid value encountered in log\n",
      "  neg_prob = np.log(1 - np.exp(self.feature_log_prob_))\n",
      "/Users/pramodkumarnaik/opt/anaconda3/lib/python3.9/site-packages/sklearn/naive_bayes.py:1183: RuntimeWarning: invalid value encountered in log\n",
      "  neg_prob = np.log(1 - np.exp(self.feature_log_prob_))\n",
      "/Users/pramodkumarnaik/opt/anaconda3/lib/python3.9/site-packages/sklearn/naive_bayes.py:1183: RuntimeWarning: invalid value encountered in log\n",
      "  neg_prob = np.log(1 - np.exp(self.feature_log_prob_))\n",
      "/Users/pramodkumarnaik/opt/anaconda3/lib/python3.9/site-packages/sklearn/naive_bayes.py:1183: RuntimeWarning: invalid value encountered in log\n",
      "  neg_prob = np.log(1 - np.exp(self.feature_log_prob_))\n",
      "/Users/pramodkumarnaik/opt/anaconda3/lib/python3.9/site-packages/sklearn/naive_bayes.py:1183: RuntimeWarning: invalid value encountered in log\n",
      "  neg_prob = np.log(1 - np.exp(self.feature_log_prob_))\n",
      "/Users/pramodkumarnaik/opt/anaconda3/lib/python3.9/site-packages/sklearn/naive_bayes.py:1183: RuntimeWarning: invalid value encountered in log\n",
      "  neg_prob = np.log(1 - np.exp(self.feature_log_prob_))\n",
      "/Users/pramodkumarnaik/opt/anaconda3/lib/python3.9/site-packages/sklearn/naive_bayes.py:1183: RuntimeWarning: invalid value encountered in log\n",
      "  neg_prob = np.log(1 - np.exp(self.feature_log_prob_))\n",
      "/Users/pramodkumarnaik/opt/anaconda3/lib/python3.9/site-packages/sklearn/naive_bayes.py:1183: RuntimeWarning: invalid value encountered in log\n",
      "  neg_prob = np.log(1 - np.exp(self.feature_log_prob_))\n",
      "/Users/pramodkumarnaik/opt/anaconda3/lib/python3.9/site-packages/sklearn/naive_bayes.py:1183: RuntimeWarning: invalid value encountered in log\n",
      "  neg_prob = np.log(1 - np.exp(self.feature_log_prob_))\n",
      "/Users/pramodkumarnaik/opt/anaconda3/lib/python3.9/site-packages/sklearn/naive_bayes.py:1183: RuntimeWarning: invalid value encountered in log\n",
      "  neg_prob = np.log(1 - np.exp(self.feature_log_prob_))\n",
      "/Users/pramodkumarnaik/opt/anaconda3/lib/python3.9/site-packages/sklearn/naive_bayes.py:1183: RuntimeWarning: invalid value encountered in log\n",
      "  neg_prob = np.log(1 - np.exp(self.feature_log_prob_))\n",
      "/Users/pramodkumarnaik/opt/anaconda3/lib/python3.9/site-packages/sklearn/naive_bayes.py:1183: RuntimeWarning: invalid value encountered in log\n",
      "  neg_prob = np.log(1 - np.exp(self.feature_log_prob_))\n",
      "/Users/pramodkumarnaik/opt/anaconda3/lib/python3.9/site-packages/sklearn/naive_bayes.py:1183: RuntimeWarning: invalid value encountered in log\n",
      "  neg_prob = np.log(1 - np.exp(self.feature_log_prob_))\n",
      "/Users/pramodkumarnaik/opt/anaconda3/lib/python3.9/site-packages/sklearn/naive_bayes.py:1183: RuntimeWarning: invalid value encountered in log\n",
      "  neg_prob = np.log(1 - np.exp(self.feature_log_prob_))\n",
      "/Users/pramodkumarnaik/opt/anaconda3/lib/python3.9/site-packages/sklearn/naive_bayes.py:1183: RuntimeWarning: invalid value encountered in log\n",
      "  neg_prob = np.log(1 - np.exp(self.feature_log_prob_))\n",
      "/Users/pramodkumarnaik/opt/anaconda3/lib/python3.9/site-packages/sklearn/naive_bayes.py:1183: RuntimeWarning: invalid value encountered in log\n",
      "  neg_prob = np.log(1 - np.exp(self.feature_log_prob_))\n",
      "/Users/pramodkumarnaik/opt/anaconda3/lib/python3.9/site-packages/sklearn/naive_bayes.py:1183: RuntimeWarning: invalid value encountered in log\n",
      "  neg_prob = np.log(1 - np.exp(self.feature_log_prob_))\n",
      "/Users/pramodkumarnaik/opt/anaconda3/lib/python3.9/site-packages/sklearn/naive_bayes.py:1183: RuntimeWarning: invalid value encountered in log\n",
      "  neg_prob = np.log(1 - np.exp(self.feature_log_prob_))\n",
      "/Users/pramodkumarnaik/opt/anaconda3/lib/python3.9/site-packages/sklearn/naive_bayes.py:1183: RuntimeWarning: invalid value encountered in log\n",
      "  neg_prob = np.log(1 - np.exp(self.feature_log_prob_))\n",
      "/Users/pramodkumarnaik/opt/anaconda3/lib/python3.9/site-packages/sklearn/naive_bayes.py:1183: RuntimeWarning: invalid value encountered in log\n",
      "  neg_prob = np.log(1 - np.exp(self.feature_log_prob_))\n",
      "/Users/pramodkumarnaik/opt/anaconda3/lib/python3.9/site-packages/sklearn/naive_bayes.py:1183: RuntimeWarning: invalid value encountered in log\n",
      "  neg_prob = np.log(1 - np.exp(self.feature_log_prob_))\n",
      "/Users/pramodkumarnaik/opt/anaconda3/lib/python3.9/site-packages/sklearn/naive_bayes.py:1183: RuntimeWarning: invalid value encountered in log\n",
      "  neg_prob = np.log(1 - np.exp(self.feature_log_prob_))\n",
      "/Users/pramodkumarnaik/opt/anaconda3/lib/python3.9/site-packages/sklearn/naive_bayes.py:1183: RuntimeWarning: invalid value encountered in log\n",
      "  neg_prob = np.log(1 - np.exp(self.feature_log_prob_))\n",
      "/Users/pramodkumarnaik/opt/anaconda3/lib/python3.9/site-packages/sklearn/naive_bayes.py:1183: RuntimeWarning: invalid value encountered in log\n",
      "  neg_prob = np.log(1 - np.exp(self.feature_log_prob_))\n",
      "/Users/pramodkumarnaik/opt/anaconda3/lib/python3.9/site-packages/sklearn/naive_bayes.py:1183: RuntimeWarning: invalid value encountered in log\n",
      "  neg_prob = np.log(1 - np.exp(self.feature_log_prob_))\n",
      "/Users/pramodkumarnaik/opt/anaconda3/lib/python3.9/site-packages/sklearn/naive_bayes.py:1183: RuntimeWarning: invalid value encountered in log\n",
      "  neg_prob = np.log(1 - np.exp(self.feature_log_prob_))\n",
      "/Users/pramodkumarnaik/opt/anaconda3/lib/python3.9/site-packages/sklearn/naive_bayes.py:1183: RuntimeWarning: invalid value encountered in log\n",
      "  neg_prob = np.log(1 - np.exp(self.feature_log_prob_))\n",
      "/Users/pramodkumarnaik/opt/anaconda3/lib/python3.9/site-packages/sklearn/naive_bayes.py:1183: RuntimeWarning: invalid value encountered in log\n",
      "  neg_prob = np.log(1 - np.exp(self.feature_log_prob_))\n",
      "/Users/pramodkumarnaik/opt/anaconda3/lib/python3.9/site-packages/sklearn/naive_bayes.py:1183: RuntimeWarning: invalid value encountered in log\n",
      "  neg_prob = np.log(1 - np.exp(self.feature_log_prob_))\n",
      "/Users/pramodkumarnaik/opt/anaconda3/lib/python3.9/site-packages/sklearn/naive_bayes.py:1183: RuntimeWarning: invalid value encountered in log\n",
      "  neg_prob = np.log(1 - np.exp(self.feature_log_prob_))\n",
      "/Users/pramodkumarnaik/opt/anaconda3/lib/python3.9/site-packages/sklearn/naive_bayes.py:1183: RuntimeWarning: invalid value encountered in log\n",
      "  neg_prob = np.log(1 - np.exp(self.feature_log_prob_))\n",
      "/Users/pramodkumarnaik/opt/anaconda3/lib/python3.9/site-packages/sklearn/naive_bayes.py:1183: RuntimeWarning: invalid value encountered in log\n",
      "  neg_prob = np.log(1 - np.exp(self.feature_log_prob_))\n",
      "/Users/pramodkumarnaik/opt/anaconda3/lib/python3.9/site-packages/sklearn/naive_bayes.py:1183: RuntimeWarning: invalid value encountered in log\n",
      "  neg_prob = np.log(1 - np.exp(self.feature_log_prob_))\n",
      "/Users/pramodkumarnaik/opt/anaconda3/lib/python3.9/site-packages/sklearn/naive_bayes.py:1183: RuntimeWarning: invalid value encountered in log\n",
      "  neg_prob = np.log(1 - np.exp(self.feature_log_prob_))\n",
      "/Users/pramodkumarnaik/opt/anaconda3/lib/python3.9/site-packages/sklearn/naive_bayes.py:1183: RuntimeWarning: invalid value encountered in log\n",
      "  neg_prob = np.log(1 - np.exp(self.feature_log_prob_))\n",
      "/Users/pramodkumarnaik/opt/anaconda3/lib/python3.9/site-packages/sklearn/naive_bayes.py:1183: RuntimeWarning: invalid value encountered in log\n",
      "  neg_prob = np.log(1 - np.exp(self.feature_log_prob_))\n",
      "/Users/pramodkumarnaik/opt/anaconda3/lib/python3.9/site-packages/sklearn/naive_bayes.py:1183: RuntimeWarning: invalid value encountered in log\n",
      "  neg_prob = np.log(1 - np.exp(self.feature_log_prob_))\n",
      "/Users/pramodkumarnaik/opt/anaconda3/lib/python3.9/site-packages/sklearn/naive_bayes.py:1183: RuntimeWarning: invalid value encountered in log\n",
      "  neg_prob = np.log(1 - np.exp(self.feature_log_prob_))\n",
      "/Users/pramodkumarnaik/opt/anaconda3/lib/python3.9/site-packages/sklearn/naive_bayes.py:1183: RuntimeWarning: invalid value encountered in log\n",
      "  neg_prob = np.log(1 - np.exp(self.feature_log_prob_))\n",
      "/Users/pramodkumarnaik/opt/anaconda3/lib/python3.9/site-packages/sklearn/naive_bayes.py:1183: RuntimeWarning: invalid value encountered in log\n",
      "  neg_prob = np.log(1 - np.exp(self.feature_log_prob_))\n",
      "/Users/pramodkumarnaik/opt/anaconda3/lib/python3.9/site-packages/sklearn/naive_bayes.py:1183: RuntimeWarning: invalid value encountered in log\n",
      "  neg_prob = np.log(1 - np.exp(self.feature_log_prob_))\n",
      "/Users/pramodkumarnaik/opt/anaconda3/lib/python3.9/site-packages/sklearn/naive_bayes.py:1183: RuntimeWarning: invalid value encountered in log\n",
      "  neg_prob = np.log(1 - np.exp(self.feature_log_prob_))\n",
      "/Users/pramodkumarnaik/opt/anaconda3/lib/python3.9/site-packages/sklearn/naive_bayes.py:1183: RuntimeWarning: invalid value encountered in log\n",
      "  neg_prob = np.log(1 - np.exp(self.feature_log_prob_))\n",
      "/Users/pramodkumarnaik/opt/anaconda3/lib/python3.9/site-packages/sklearn/naive_bayes.py:1183: RuntimeWarning: invalid value encountered in log\n",
      "  neg_prob = np.log(1 - np.exp(self.feature_log_prob_))\n",
      "/Users/pramodkumarnaik/opt/anaconda3/lib/python3.9/site-packages/sklearn/naive_bayes.py:1183: RuntimeWarning: invalid value encountered in log\n",
      "  neg_prob = np.log(1 - np.exp(self.feature_log_prob_))\n",
      "/Users/pramodkumarnaik/opt/anaconda3/lib/python3.9/site-packages/sklearn/naive_bayes.py:1183: RuntimeWarning: invalid value encountered in log\n",
      "  neg_prob = np.log(1 - np.exp(self.feature_log_prob_))\n",
      "/Users/pramodkumarnaik/opt/anaconda3/lib/python3.9/site-packages/sklearn/naive_bayes.py:1183: RuntimeWarning: invalid value encountered in log\n",
      "  neg_prob = np.log(1 - np.exp(self.feature_log_prob_))\n",
      "/Users/pramodkumarnaik/opt/anaconda3/lib/python3.9/site-packages/sklearn/naive_bayes.py:1183: RuntimeWarning: invalid value encountered in log\n",
      "  neg_prob = np.log(1 - np.exp(self.feature_log_prob_))\n",
      "/Users/pramodkumarnaik/opt/anaconda3/lib/python3.9/site-packages/sklearn/naive_bayes.py:1183: RuntimeWarning: invalid value encountered in log\n",
      "  neg_prob = np.log(1 - np.exp(self.feature_log_prob_))\n",
      "/Users/pramodkumarnaik/opt/anaconda3/lib/python3.9/site-packages/sklearn/naive_bayes.py:1183: RuntimeWarning: invalid value encountered in log\n",
      "  neg_prob = np.log(1 - np.exp(self.feature_log_prob_))\n",
      "/Users/pramodkumarnaik/opt/anaconda3/lib/python3.9/site-packages/sklearn/naive_bayes.py:1183: RuntimeWarning: invalid value encountered in log\n",
      "  neg_prob = np.log(1 - np.exp(self.feature_log_prob_))\n",
      "/Users/pramodkumarnaik/opt/anaconda3/lib/python3.9/site-packages/sklearn/naive_bayes.py:1183: RuntimeWarning: invalid value encountered in log\n",
      "  neg_prob = np.log(1 - np.exp(self.feature_log_prob_))\n",
      "/Users/pramodkumarnaik/opt/anaconda3/lib/python3.9/site-packages/sklearn/naive_bayes.py:1183: RuntimeWarning: invalid value encountered in log\n",
      "  neg_prob = np.log(1 - np.exp(self.feature_log_prob_))\n",
      "/Users/pramodkumarnaik/opt/anaconda3/lib/python3.9/site-packages/sklearn/naive_bayes.py:1183: RuntimeWarning: invalid value encountered in log\n",
      "  neg_prob = np.log(1 - np.exp(self.feature_log_prob_))\n",
      "/Users/pramodkumarnaik/opt/anaconda3/lib/python3.9/site-packages/sklearn/naive_bayes.py:1183: RuntimeWarning: invalid value encountered in log\n",
      "  neg_prob = np.log(1 - np.exp(self.feature_log_prob_))\n",
      "/Users/pramodkumarnaik/opt/anaconda3/lib/python3.9/site-packages/sklearn/naive_bayes.py:1183: RuntimeWarning: invalid value encountered in log\n",
      "  neg_prob = np.log(1 - np.exp(self.feature_log_prob_))\n",
      "/Users/pramodkumarnaik/opt/anaconda3/lib/python3.9/site-packages/sklearn/naive_bayes.py:1183: RuntimeWarning: invalid value encountered in log\n",
      "  neg_prob = np.log(1 - np.exp(self.feature_log_prob_))\n",
      "/Users/pramodkumarnaik/opt/anaconda3/lib/python3.9/site-packages/sklearn/naive_bayes.py:1183: RuntimeWarning: invalid value encountered in log\n",
      "  neg_prob = np.log(1 - np.exp(self.feature_log_prob_))\n",
      "/Users/pramodkumarnaik/opt/anaconda3/lib/python3.9/site-packages/sklearn/naive_bayes.py:1183: RuntimeWarning: invalid value encountered in log\n",
      "  neg_prob = np.log(1 - np.exp(self.feature_log_prob_))\n",
      "/Users/pramodkumarnaik/opt/anaconda3/lib/python3.9/site-packages/sklearn/naive_bayes.py:1183: RuntimeWarning: invalid value encountered in log\n",
      "  neg_prob = np.log(1 - np.exp(self.feature_log_prob_))\n",
      "/Users/pramodkumarnaik/opt/anaconda3/lib/python3.9/site-packages/sklearn/naive_bayes.py:1183: RuntimeWarning: invalid value encountered in log\n",
      "  neg_prob = np.log(1 - np.exp(self.feature_log_prob_))\n",
      "/Users/pramodkumarnaik/opt/anaconda3/lib/python3.9/site-packages/sklearn/naive_bayes.py:1183: RuntimeWarning: invalid value encountered in log\n",
      "  neg_prob = np.log(1 - np.exp(self.feature_log_prob_))\n",
      "/Users/pramodkumarnaik/opt/anaconda3/lib/python3.9/site-packages/sklearn/naive_bayes.py:1183: RuntimeWarning: invalid value encountered in log\n",
      "  neg_prob = np.log(1 - np.exp(self.feature_log_prob_))\n",
      "/Users/pramodkumarnaik/opt/anaconda3/lib/python3.9/site-packages/sklearn/naive_bayes.py:1183: RuntimeWarning: invalid value encountered in log\n",
      "  neg_prob = np.log(1 - np.exp(self.feature_log_prob_))\n",
      "/Users/pramodkumarnaik/opt/anaconda3/lib/python3.9/site-packages/sklearn/naive_bayes.py:1183: RuntimeWarning: invalid value encountered in log\n",
      "  neg_prob = np.log(1 - np.exp(self.feature_log_prob_))\n",
      "/Users/pramodkumarnaik/opt/anaconda3/lib/python3.9/site-packages/sklearn/naive_bayes.py:1183: RuntimeWarning: invalid value encountered in log\n",
      "  neg_prob = np.log(1 - np.exp(self.feature_log_prob_))\n",
      "/Users/pramodkumarnaik/opt/anaconda3/lib/python3.9/site-packages/sklearn/naive_bayes.py:1183: RuntimeWarning: invalid value encountered in log\n",
      "  neg_prob = np.log(1 - np.exp(self.feature_log_prob_))\n",
      "/Users/pramodkumarnaik/opt/anaconda3/lib/python3.9/site-packages/sklearn/naive_bayes.py:1183: RuntimeWarning: invalid value encountered in log\n",
      "  neg_prob = np.log(1 - np.exp(self.feature_log_prob_))\n",
      "/Users/pramodkumarnaik/opt/anaconda3/lib/python3.9/site-packages/sklearn/naive_bayes.py:1183: RuntimeWarning: invalid value encountered in log\n",
      "  neg_prob = np.log(1 - np.exp(self.feature_log_prob_))\n",
      "/Users/pramodkumarnaik/opt/anaconda3/lib/python3.9/site-packages/sklearn/naive_bayes.py:1183: RuntimeWarning: invalid value encountered in log\n",
      "  neg_prob = np.log(1 - np.exp(self.feature_log_prob_))\n",
      "/Users/pramodkumarnaik/opt/anaconda3/lib/python3.9/site-packages/sklearn/naive_bayes.py:1183: RuntimeWarning: invalid value encountered in log\n",
      "  neg_prob = np.log(1 - np.exp(self.feature_log_prob_))\n",
      "/Users/pramodkumarnaik/opt/anaconda3/lib/python3.9/site-packages/sklearn/naive_bayes.py:1183: RuntimeWarning: invalid value encountered in log\n",
      "  neg_prob = np.log(1 - np.exp(self.feature_log_prob_))\n",
      "/Users/pramodkumarnaik/opt/anaconda3/lib/python3.9/site-packages/sklearn/naive_bayes.py:1183: RuntimeWarning: invalid value encountered in log\n",
      "  neg_prob = np.log(1 - np.exp(self.feature_log_prob_))\n",
      "/Users/pramodkumarnaik/opt/anaconda3/lib/python3.9/site-packages/sklearn/naive_bayes.py:1183: RuntimeWarning: invalid value encountered in log\n",
      "  neg_prob = np.log(1 - np.exp(self.feature_log_prob_))\n",
      "/Users/pramodkumarnaik/opt/anaconda3/lib/python3.9/site-packages/sklearn/naive_bayes.py:1183: RuntimeWarning: invalid value encountered in log\n",
      "  neg_prob = np.log(1 - np.exp(self.feature_log_prob_))\n",
      "/Users/pramodkumarnaik/opt/anaconda3/lib/python3.9/site-packages/sklearn/naive_bayes.py:1183: RuntimeWarning: invalid value encountered in log\n",
      "  neg_prob = np.log(1 - np.exp(self.feature_log_prob_))\n"
     ]
    },
    {
     "name": "stdout",
     "output_type": "stream",
     "text": [
      "Best Parameters : {'alpha': 0.01, 'binarize': 10.0, 'class_prior': None, 'fit_prior': True}\n",
      "Best Accuracy Through Grid Search : 0.514\n",
      "\n"
     ]
    }
   ],
   "source": [
    "# tuning the Bernoulli NB using the gridsearch\n",
    "params = {'alpha': [0.01, 0.1, 0.5, 1.0, 10.0],\n",
    "          'fit_prior': [True, False],\n",
    "          'class_prior': [None, [0.1,]* len(n_classes), ],\n",
    "          'binarize': [None, 0.0, 8.5, 10.0]\n",
    "         }\n",
    "\n",
    "BNBGRID = GridSearchCV(BernoulliNB(), param_grid=params, n_jobs=-1, cv=5, verbose=5)\n",
    "BNBGRID.fit(X_train_binresampled, y_train_binresampled)\n",
    "\n",
    "print('Best Parameters : {}'.format(BNBGRID.best_params_))\n",
    "print('Best Accuracy Through Grid Search : {:.3f}\\n'.format(BNBGRID.best_score_))\n"
   ]
  },
  {
   "cell_type": "code",
   "execution_count": 88,
   "id": "288630c7",
   "metadata": {},
   "outputs": [
    {
     "name": "stdout",
     "output_type": "stream",
     "text": [
      "Accuracy: 0.6347997743936831\n",
      "              precision    recall  f1-score   support\n",
      "\n",
      "           0       0.65      0.58      0.61      1773\n",
      "           1       0.62      0.69      0.65      1773\n",
      "\n",
      "    accuracy                           0.63      3546\n",
      "   macro avg       0.64      0.63      0.63      3546\n",
      "weighted avg       0.64      0.63      0.63      3546\n",
      "\n",
      "Confusion Matrix:\n",
      " [[1023  750]\n",
      " [ 545 1228]]\n"
     ]
    }
   ],
   "source": [
    "# Create a Multinomial Naïve Bayes classifier\n",
    "bnb_classifier = BernoulliNB(alpha= 0.01, binarize = 10.0, class_prior= None, fit_prior= True)\n",
    "\n",
    "# Perform cross-validation and get predictions\n",
    "y_pred_binover1 = cross_val_predict(bnb_classifier, X_train_binresampled, y_train_binresampled, cv=5)\n",
    "\n",
    "# Calculate accuracy\n",
    "accuracy_bin1 = accuracy_score(y_train_binresampled, y_pred_binover)\n",
    "\n",
    "# Generate a classification report\n",
    "report_bin1 = classification_report(y_train_binresampled, y_pred_binover)\n",
    "\n",
    "# Create a confusion matrix\n",
    "confusion_bin1 = confusion_matrix(y_train_binresampled, y_pred_binover)\n",
    "\n",
    "# Print the metrics\n",
    "print(f\"Accuracy: {accuracy_bin1}\")\n",
    "print(report_bin1)\n",
    "print(\"Confusion Matrix:\\n\", confusion_bin1)"
   ]
  },
  {
   "cell_type": "code",
   "execution_count": 79,
   "id": "4fb2cff6",
   "metadata": {},
   "outputs": [
    {
     "data": {
      "image/png": "[encoded data removed]",
      "text/plain": [
       "<Figure size 432x288 with 1 Axes>"
      ]
     },
     "metadata": {
      "needs_background": "light"
     },
     "output_type": "display_data"
    }
   ],
   "source": [
    "# printing ROC curve in order to evaluate the performance of a classification model\n",
    "from sklearn.metrics import roc_curve, auc\n",
    "fpr, tpr, thresholds = roc_curve(y_train_binresampled, y_pred_binover1)\n",
    "roc_auc = auc(fpr, tpr)\n",
    "plt.figure()\n",
    "plt.plot(fpr, tpr, color='darkorange', lw=1, label='ROC curve (area = %0.2f)' % roc_auc)\n",
    "plt.xlim([0.0, 1.0])\n",
    "plt.ylim([0.0, 1.05])\n",
    "plt.xlabel('False Positive Rate')\n",
    "plt.ylabel('True Positive Rate')\n",
    "plt.title('ROC CURVE')\n",
    "plt.legend(loc=\"lower right\")\n",
    "plt.show()"
   ]
  },
  {
   "cell_type": "markdown",
   "id": "c4d80ea1",
   "metadata": {},
   "source": [
    "### 3) Gaussian NB"
   ]
  },
  {
   "cell_type": "code",
   "execution_count": 89,
   "id": "cc572208",
   "metadata": {},
   "outputs": [
    {
     "name": "stdout",
     "output_type": "stream",
     "text": [
      "Fitting 5 folds for each of 2 candidates, totalling 10 fits\n",
      "Best Parameters : {'priors': None}\n",
      "Best Accuracy Through Grid Search : 0.790\n",
      "\n"
     ]
    },
    {
     "name": "stderr",
     "output_type": "stream",
     "text": [
      "/Users/pramodkumarnaik/opt/anaconda3/lib/python3.9/site-packages/sklearn/model_selection/_validation.py:372: FitFailedWarning: \n",
      "5 fits failed out of a total of 10.\n",
      "The score on these train-test partitions for these parameters will be set to nan.\n",
      "If these failures are not expected, you can try to debug them by setting error_score='raise'.\n",
      "\n",
      "Below are more details about the failures:\n",
      "--------------------------------------------------------------------------------\n",
      "5 fits failed with the following error:\n",
      "Traceback (most recent call last):\n",
      "  File \"/Users/pramodkumarnaik/opt/anaconda3/lib/python3.9/site-packages/sklearn/model_selection/_validation.py\", line 680, in _fit_and_score\n",
      "    estimator.fit(X_train, y_train, **fit_params)\n",
      "  File \"/Users/pramodkumarnaik/opt/anaconda3/lib/python3.9/site-packages/sklearn/naive_bayes.py\", line 245, in fit\n",
      "    return self._partial_fit(\n",
      "  File \"/Users/pramodkumarnaik/opt/anaconda3/lib/python3.9/site-packages/sklearn/naive_bayes.py\", line 431, in _partial_fit\n",
      "    raise ValueError(\"The sum of the priors should be 1.\")\n",
      "ValueError: The sum of the priors should be 1.\n",
      "\n",
      "  warnings.warn(some_fits_failed_message, FitFailedWarning)\n",
      "/Users/pramodkumarnaik/opt/anaconda3/lib/python3.9/site-packages/sklearn/model_selection/_search.py:969: UserWarning: One or more of the test scores are non-finite: [0.7896315       nan]\n",
      "  warnings.warn(\n"
     ]
    }
   ],
   "source": [
    "# Define the parameter grid for Gaussian Naïve Bayes\n",
    "params = {\n",
    "    'priors': [None, [0.1] * len(n_classes)],\n",
    "}\n",
    "\n",
    "# Create a Gaussian Naïve Bayes classifier\n",
    "gnb_classifier = GaussianNB()\n",
    "\n",
    "# Use GridSearchCV to tune the Gaussian Naïve Bayes classifier\n",
    "GNBGRID = GridSearchCV(gnb_classifier, param_grid=params, n_jobs=-1, cv=5, verbose=5)\n",
    "GNBGRID.fit(X_train_binresampled, y_train_binresampled)\n",
    "\n",
    "print('Best Parameters : {}'.format(GNBGRID.best_params_))\n",
    "print('Best Accuracy Through Grid Search : {:.3f}\\n'.format(GNBGRID.best_score_))"
   ]
  },
  {
   "cell_type": "code",
   "execution_count": 86,
   "id": "fffdf7ff",
   "metadata": {},
   "outputs": [
    {
     "name": "stdout",
     "output_type": "stream",
     "text": [
      "Accuracy: 0.7896221094190637\n",
      "              precision    recall  f1-score   support\n",
      "\n",
      "           0       0.76      0.84      0.80      1773\n",
      "           1       0.82      0.74      0.78      1773\n",
      "\n",
      "    accuracy                           0.79      3546\n",
      "   macro avg       0.79      0.79      0.79      3546\n",
      "weighted avg       0.79      0.79      0.79      3546\n",
      "\n",
      "Confusion Matrix:\n",
      " [[1487  286]\n",
      " [ 460 1313]]\n",
      "[CV 3/5] END ...................priors=[0.1, 0.1];, score=nan total time=   0.5s\n",
      "[CV 3/5] END .......................priors=None;, score=0.838 total time=   0.7s\n",
      "[CV 2/5] END ...................priors=[0.1, 0.1];, score=nan total time=   0.5s\n",
      "[CV 5/5] END ...................priors=[0.1, 0.1];, score=nan total time=   0.2s\n",
      "[CV 1/5] END ...................priors=[0.1, 0.1];, score=nan total time=   0.2s\n",
      "[CV 4/5] END ...................priors=[0.1, 0.1];, score=nan total time=   0.6s\n",
      "[CV 1/5] END .......................priors=None;, score=0.756 total time=   0.8s\n",
      "[CV 2/5] END .......................priors=None;, score=0.770 total time=   0.8s\n",
      "[CV 5/5] END .......................priors=None;, score=0.821 total time=   0.9s\n",
      "[CV 4/5] END .......................priors=None;, score=0.763 total time=   0.8s\n"
     ]
    }
   ],
   "source": [
    "from sklearn.naive_bayes import GaussianNB\n",
    "\n",
    "# Create a Gaussian Naïve Bayes classifier\n",
    "gnb_classifier = GaussianNB(priors= None)\n",
    "\n",
    "# Perform cross-validation and get predictions\n",
    "y_pred_gnb = cross_val_predict(gnb_classifier, X_train_binresampled, y_train_binresampled, cv=5)\n",
    "\n",
    "# Calculate accuracy\n",
    "accuracy_gnb = accuracy_score(y_train_binresampled, y_pred_gnb)\n",
    "\n",
    "# Generate a classification report\n",
    "report_gnb = classification_report(y_train_binresampled, y_pred_gnb)\n",
    "\n",
    "# Create a confusion matrix\n",
    "confusion_gnb = confusion_matrix(y_train_binresampled, y_pred_gnb)\n",
    "\n",
    "# Print the metrics\n",
    "print(f\"Accuracy: {accuracy_gnb}\")\n",
    "print(report_gnb)\n",
    "print(\"Confusion Matrix:\\n\", confusion_gnb)\n"
   ]
  },
  {
   "cell_type": "code",
   "execution_count": 84,
   "id": "e2c5945c",
   "metadata": {},
   "outputs": [
    {
     "data": {
      "image/png": "[encoded data removed]",
      "text/plain": [
       "<Figure size 432x288 with 1 Axes>"
      ]
     },
     "metadata": {
      "needs_background": "light"
     },
     "output_type": "display_data"
    }
   ],
   "source": [
    "# printing ROC curve in order to evaluate the performance of a classification model\n",
    "from sklearn.metrics import roc_curve, auc\n",
    "fpr, tpr, thresholds = roc_curve(y_train_binresampled, y_pred_gnb)\n",
    "roc_auc = auc(fpr, tpr)\n",
    "plt.figure()\n",
    "plt.plot(fpr, tpr, color='darkorange', lw=1, label='ROC curve (area = %0.2f)' % roc_auc)\n",
    "plt.xlim([0.0, 1.0])\n",
    "plt.ylim([0.0, 1.05])\n",
    "plt.xlabel('False Positive Rate')\n",
    "plt.ylabel('True Positive Rate')\n",
    "plt.title('ROC CURVE')\n",
    "plt.legend(loc=\"lower right\")\n",
    "plt.show()"
   ]
  },
  {
   "cell_type": "markdown",
   "id": "bd2f9c12",
   "metadata": {},
   "source": [
    "### 4) Complement NB"
   ]
  },
  {
   "cell_type": "code",
   "execution_count": 92,
   "id": "742981d7",
   "metadata": {},
   "outputs": [
    {
     "name": "stdout",
     "output_type": "stream",
     "text": [
      "Fitting 5 folds for each of 10 candidates, totalling 50 fits\n",
      "Best Parameters : {'alpha': 0.01, 'fit_prior': True}\n",
      "Best Accuracy Through Grid Search : 0.635\n",
      "\n"
     ]
    }
   ],
   "source": [
    "from sklearn.naive_bayes import ComplementNB\n",
    "from sklearn.model_selection import GridSearchCV\n",
    "\n",
    "# Define the parameter grid for Complement Naïve Bayes\n",
    "params = {\n",
    "    'alpha': [0.01, 0.1, 0.5, 1.0, 10.0],\n",
    "    'fit_prior': [True, False],\n",
    "}\n",
    "\n",
    "# Create a Complement Naïve Bayes classifier\n",
    "cnb_classifier = ComplementNB()\n",
    "\n",
    "# Use GridSearchCV to tune the Complement Naïve Bayes classifier\n",
    "CNBGRID = GridSearchCV(cnb_classifier, param_grid=params, n_jobs=-1, cv=5, verbose=5)\n",
    "CNBGRID.fit(X_train_binresampled, y_train_binresampled)\n",
    "\n",
    "print('Best Parameters : {}'.format(CNBGRID.best_params_))\n",
    "print('Best Accuracy Through Grid Search : {:.3f}\\n'.format(CNBGRID.best_score_))\n"
   ]
  },
  {
   "cell_type": "code",
   "execution_count": 93,
   "id": "c66dc619",
   "metadata": {},
   "outputs": [
    {
     "name": "stdout",
     "output_type": "stream",
     "text": [
      "Accuracy: 0.6347997743936831\n",
      "              precision    recall  f1-score   support\n",
      "\n",
      "           0       0.65      0.58      0.61      1773\n",
      "           1       0.62      0.69      0.65      1773\n",
      "\n",
      "    accuracy                           0.63      3546\n",
      "   macro avg       0.64      0.63      0.63      3546\n",
      "weighted avg       0.64      0.63      0.63      3546\n",
      "\n",
      "Confusion Matrix:\n",
      " [[1023  750]\n",
      " [ 545 1228]]\n"
     ]
    }
   ],
   "source": [
    "from sklearn.naive_bayes import ComplementNB\n",
    "\n",
    "# Create a Complement Naïve Bayes classifier\n",
    "cnb_classifier = ComplementNB(alpha = 0.01, fit_prior = True)\n",
    "\n",
    "# Perform cross-validation and get predictions\n",
    "y_pred_cnb = cross_val_predict(cnb_classifier, X_train_binresampled, y_train_binresampled, cv=5)\n",
    "\n",
    "# Calculate accuracy\n",
    "accuracy_cnb = accuracy_score(y_train_binresampled, y_pred_cnb)\n",
    "\n",
    "# Generate a classification report\n",
    "report_cnb = classification_report(y_train_binresampled, y_pred_cnb)\n",
    "\n",
    "# Create a confusion matrix\n",
    "confusion_cnb = confusion_matrix(y_train_binresampled, y_pred_cnb)\n",
    "\n",
    "# Print the metrics\n",
    "print(f\"Accuracy: {accuracy_cnb}\")\n",
    "print(report_cnb)\n",
    "print(\"Confusion Matrix:\\n\", confusion_cnb)\n"
   ]
  },
  {
   "cell_type": "code",
   "execution_count": 94,
   "id": "462ba7ed",
   "metadata": {},
   "outputs": [
    {
     "data": {
      "image/png": "[encoded data removed]",
      "text/plain": [
       "<Figure size 432x288 with 1 Axes>"
      ]
     },
     "metadata": {
      "needs_background": "light"
     },
     "output_type": "display_data"
    }
   ],
   "source": [
    "# printing ROC curve in order to evaluate the performance of a classification model\n",
    "from sklearn.metrics import roc_curve, auc\n",
    "fpr, tpr, thresholds = roc_curve(y_train_binresampled, y_pred_cnb)\n",
    "roc_auc = auc(fpr, tpr)\n",
    "plt.figure()\n",
    "plt.plot(fpr, tpr, color='darkorange', lw=1, label='ROC curve (area = %0.2f)' % roc_auc)\n",
    "plt.xlim([0.0, 1.0])\n",
    "plt.ylim([0.0, 1.05])\n",
    "plt.xlabel('False Positive Rate')\n",
    "plt.ylabel('True Positive Rate')\n",
    "plt.title('ROC CURVE')\n",
    "plt.legend(loc=\"lower right\")\n",
    "plt.show()"
   ]
  },
  {
   "cell_type": "markdown",
   "id": "fa0165c2",
   "metadata": {},
   "source": [
    "## Correlating Features"
   ]
  },
  {
   "cell_type": "code",
   "execution_count": 104,
   "id": "88c097b2",
   "metadata": {},
   "outputs": [],
   "source": [
    "# Load the dataset\n",
    "x_train_all = pd.read_csv('x_train_all.csv')\n",
    "y_train_0 = pd.read_csv('0_vrs_all/y_train_0.csv')"
   ]
  },
  {
   "cell_type": "code",
   "execution_count": 105,
   "id": "cac9c916",
   "metadata": {},
   "outputs": [
    {
     "data": {
      "image/png": "[encoded data removed]",
      "text/plain": [
       "<Figure size 864x432 with 1 Axes>"
      ]
     },
     "metadata": {
      "needs_background": "light"
     },
     "output_type": "display_data"
    }
   ],
   "source": [
    "class_counts = y_train_0['0'].value_counts().reset_index()\n",
    "class_counts.columns = ['Class', 'Count']\n",
    "\n",
    "# Sort the classes by count (optional)\n",
    "class_counts = class_counts.sort_values(by='Count', ascending=False)\n",
    "\n",
    "# Create a bar plot\n",
    "plt.figure(figsize=(12, 6))\n",
    "bars = plt.bar(class_counts['Class'], class_counts['Count'])\n",
    "plt.xlabel('Class')\n",
    "plt.ylabel('Count')\n",
    "plt.title('Class Distribution')\n",
    "plt.xticks(rotation=90)  # Rotate class labels for better readability\n",
    "\n",
    "# Add data labels to each bar\n",
    "for bar in bars:\n",
    "    height = bar.get_height()\n",
    "    plt.annotate(f'{int(height)}', xy=(bar.get_x() + bar.get_width() / 2, height),\n",
    "                 xytext=(0, 3),  # 3 points vertical offset for the label\n",
    "                 textcoords=\"offset points\",\n",
    "                 ha='center', va='bottom')\n",
    "\n",
    "plt.show()\n"
   ]
  },
  {
   "cell_type": "code",
   "execution_count": 107,
   "id": "7aa7bbc6",
   "metadata": {},
   "outputs": [
    {
     "name": "stdout",
     "output_type": "stream",
     "text": [
      "Top 5 Features:\n",
      "0       0.058439\n",
      "1            NaN\n",
      "10           NaN\n",
      "100          NaN\n",
      "1000         NaN\n",
      "dtype: float64\n",
      "\n",
      "Top 10 Features:\n",
      "0       0.058439\n",
      "1            NaN\n",
      "10           NaN\n",
      "100          NaN\n",
      "1000         NaN\n",
      "1001         NaN\n",
      "1002         NaN\n",
      "1003         NaN\n",
      "1004         NaN\n",
      "1005         NaN\n",
      "dtype: float64\n",
      "\n",
      "Top 20 Features:\n",
      "0       0.058439\n",
      "1            NaN\n",
      "10           NaN\n",
      "100          NaN\n",
      "1000         NaN\n",
      "1001         NaN\n",
      "1002         NaN\n",
      "1003         NaN\n",
      "1004         NaN\n",
      "1005         NaN\n",
      "1006         NaN\n",
      "1007         NaN\n",
      "1008         NaN\n",
      "1009         NaN\n",
      "101          NaN\n",
      "1010         NaN\n",
      "1011         NaN\n",
      "1012         NaN\n",
      "1013         NaN\n",
      "1014         NaN\n",
      "dtype: float64\n"
     ]
    }
   ],
   "source": [
    "# Choose the class of interest (e.g., class 1)\n",
    "class_of_interest = 0\n",
    "\n",
    "# Calculate correlations for the class of interest\n",
    "correlations = x_train_all.corrwith((y_train_0 == class_of_interest).astype(int))\n",
    "\n",
    "# Sort features by absolute correlation values in descending order\n",
    "sorted_correlations = correlations.abs().sort_values(ascending=False)\n",
    "\n",
    "# Get the top 5, 10, and 20 features\n",
    "top_5_features = sorted_correlations.head(5)\n",
    "top_10_features = sorted_correlations.head(10)\n",
    "top_20_features = sorted_correlations.head(20)\n",
    "\n",
    "# Display the top features\n",
    "print(\"Top 5 Features:\")\n",
    "print(top_5_features)\n",
    "\n",
    "print(\"\\nTop 10 Features:\")\n",
    "print(top_10_features)\n",
    "\n",
    "print(\"\\nTop 20 Features:\")\n",
    "print(top_20_features)\n"
   ]
  },
  {
   "cell_type": "code",
   "execution_count": null,
   "id": "1e638584",
   "metadata": {},
   "outputs": [],
   "source": []
  },
  {
   "cell_type": "code",
   "execution_count": null,
   "id": "7934e2ed",
   "metadata": {},
   "outputs": [],
   "source": []
  },
  {
   "cell_type": "code",
   "execution_count": null,
   "id": "548c0abd",
   "metadata": {},
   "outputs": [],
   "source": []
  },
  {
   "cell_type": "code",
   "execution_count": null,
   "id": "128e7f4b",
   "metadata": {},
   "outputs": [],
   "source": []
  },
  {
   "cell_type": "code",
   "execution_count": null,
   "id": "fac4f2c6",
   "metadata": {},
   "outputs": [],
   "source": []
  }
 ],
 "metadata": {
  "kernelspec": {
   "display_name": "Python 3 (ipykernel)",
   "language": "python",
   "name": "python3"
  },
  "language_info": {
   "codemirror_mode": {
    "name": "ipython",
    "version": 3
   },
   "file_extension": ".py",
   "mimetype": "text/x-python",
   "name": "python",
   "nbconvert_exporter": "python",
   "pygments_lexer": "ipython3",
   "version": "3.9.12"
  }
 },
 "nbformat": 4,
 "nbformat_minor": 5
}
